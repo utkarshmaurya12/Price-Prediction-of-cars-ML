{
 "cells": [
  {
   "cell_type": "markdown",
   "metadata": {},
   "source": [
    "# Problem Statement-Predicting the costs of used cars given the data collected from various sources and distributed across various locations.\n",
    "\n",
    "First we will perform data visualization and cleaning."
   ]
  },
  {
   "cell_type": "code",
   "execution_count": 728,
   "metadata": {},
   "outputs": [],
   "source": [
    "import numpy as np\n",
    "import pandas as pd"
   ]
  },
  {
   "cell_type": "code",
   "execution_count": 729,
   "metadata": {},
   "outputs": [],
   "source": [
    "#df=pd.read_csv('Data_Train.csv')\n",
    "df = pd.read_csv('../Major Project/Data_Train.csv')"
   ]
  },
  {
   "cell_type": "code",
   "execution_count": 730,
   "metadata": {},
   "outputs": [
    {
     "data": {
      "text/html": [
       "<div>\n",
       "<style scoped>\n",
       "    .dataframe tbody tr th:only-of-type {\n",
       "        vertical-align: middle;\n",
       "    }\n",
       "\n",
       "    .dataframe tbody tr th {\n",
       "        vertical-align: top;\n",
       "    }\n",
       "\n",
       "    .dataframe thead th {\n",
       "        text-align: right;\n",
       "    }\n",
       "</style>\n",
       "<table border=\"1\" class=\"dataframe\">\n",
       "  <thead>\n",
       "    <tr style=\"text-align: right;\">\n",
       "      <th></th>\n",
       "      <th>Name</th>\n",
       "      <th>Location</th>\n",
       "      <th>Year</th>\n",
       "      <th>Kilometers_Driven</th>\n",
       "      <th>Fuel_Type</th>\n",
       "      <th>Transmission</th>\n",
       "      <th>Owner_Type</th>\n",
       "      <th>Mileage</th>\n",
       "      <th>Engine</th>\n",
       "      <th>Power</th>\n",
       "      <th>Seats</th>\n",
       "      <th>Price</th>\n",
       "    </tr>\n",
       "  </thead>\n",
       "  <tbody>\n",
       "    <tr>\n",
       "      <th>0</th>\n",
       "      <td>Maruti Wagon R LXI CNG</td>\n",
       "      <td>Mumbai</td>\n",
       "      <td>2010</td>\n",
       "      <td>72000</td>\n",
       "      <td>CNG</td>\n",
       "      <td>Manual</td>\n",
       "      <td>First</td>\n",
       "      <td>26.6 km/kg</td>\n",
       "      <td>998 CC</td>\n",
       "      <td>58.16 bhp</td>\n",
       "      <td>5.0</td>\n",
       "      <td>1.75</td>\n",
       "    </tr>\n",
       "    <tr>\n",
       "      <th>1</th>\n",
       "      <td>Hyundai Creta 1.6 CRDi SX Option</td>\n",
       "      <td>Pune</td>\n",
       "      <td>2015</td>\n",
       "      <td>41000</td>\n",
       "      <td>Diesel</td>\n",
       "      <td>Manual</td>\n",
       "      <td>First</td>\n",
       "      <td>19.67 kmpl</td>\n",
       "      <td>1582 CC</td>\n",
       "      <td>126.2 bhp</td>\n",
       "      <td>5.0</td>\n",
       "      <td>12.50</td>\n",
       "    </tr>\n",
       "    <tr>\n",
       "      <th>2</th>\n",
       "      <td>Honda Jazz V</td>\n",
       "      <td>Chennai</td>\n",
       "      <td>2011</td>\n",
       "      <td>46000</td>\n",
       "      <td>Petrol</td>\n",
       "      <td>Manual</td>\n",
       "      <td>First</td>\n",
       "      <td>18.2 kmpl</td>\n",
       "      <td>1199 CC</td>\n",
       "      <td>88.7 bhp</td>\n",
       "      <td>5.0</td>\n",
       "      <td>4.50</td>\n",
       "    </tr>\n",
       "    <tr>\n",
       "      <th>3</th>\n",
       "      <td>Maruti Ertiga VDI</td>\n",
       "      <td>Chennai</td>\n",
       "      <td>2012</td>\n",
       "      <td>87000</td>\n",
       "      <td>Diesel</td>\n",
       "      <td>Manual</td>\n",
       "      <td>First</td>\n",
       "      <td>20.77 kmpl</td>\n",
       "      <td>1248 CC</td>\n",
       "      <td>88.76 bhp</td>\n",
       "      <td>7.0</td>\n",
       "      <td>6.00</td>\n",
       "    </tr>\n",
       "    <tr>\n",
       "      <th>4</th>\n",
       "      <td>Audi A4 New 2.0 TDI Multitronic</td>\n",
       "      <td>Coimbatore</td>\n",
       "      <td>2013</td>\n",
       "      <td>40670</td>\n",
       "      <td>Diesel</td>\n",
       "      <td>Automatic</td>\n",
       "      <td>Second</td>\n",
       "      <td>15.2 kmpl</td>\n",
       "      <td>1968 CC</td>\n",
       "      <td>140.8 bhp</td>\n",
       "      <td>5.0</td>\n",
       "      <td>17.74</td>\n",
       "    </tr>\n",
       "  </tbody>\n",
       "</table>\n",
       "</div>"
      ],
      "text/plain": [
       "                               Name    Location  Year  Kilometers_Driven  \\\n",
       "0            Maruti Wagon R LXI CNG      Mumbai  2010              72000   \n",
       "1  Hyundai Creta 1.6 CRDi SX Option        Pune  2015              41000   \n",
       "2                      Honda Jazz V     Chennai  2011              46000   \n",
       "3                 Maruti Ertiga VDI     Chennai  2012              87000   \n",
       "4   Audi A4 New 2.0 TDI Multitronic  Coimbatore  2013              40670   \n",
       "\n",
       "  Fuel_Type Transmission Owner_Type     Mileage   Engine      Power  Seats  \\\n",
       "0       CNG       Manual      First  26.6 km/kg   998 CC  58.16 bhp    5.0   \n",
       "1    Diesel       Manual      First  19.67 kmpl  1582 CC  126.2 bhp    5.0   \n",
       "2    Petrol       Manual      First   18.2 kmpl  1199 CC   88.7 bhp    5.0   \n",
       "3    Diesel       Manual      First  20.77 kmpl  1248 CC  88.76 bhp    7.0   \n",
       "4    Diesel    Automatic     Second   15.2 kmpl  1968 CC  140.8 bhp    5.0   \n",
       "\n",
       "   Price  \n",
       "0   1.75  \n",
       "1  12.50  \n",
       "2   4.50  \n",
       "3   6.00  \n",
       "4  17.74  "
      ]
     },
     "execution_count": 730,
     "metadata": {},
     "output_type": "execute_result"
    }
   ],
   "source": [
    "df.head()"
   ]
  },
  {
   "cell_type": "code",
   "execution_count": 731,
   "metadata": {},
   "outputs": [
    {
     "data": {
      "text/plain": [
       "(6019, 12)"
      ]
     },
     "execution_count": 731,
     "metadata": {},
     "output_type": "execute_result"
    }
   ],
   "source": [
    "df.shape"
   ]
  },
  {
   "cell_type": "code",
   "execution_count": 732,
   "metadata": {},
   "outputs": [
    {
     "data": {
      "text/plain": [
       "Name                  0\n",
       "Location              0\n",
       "Year                  0\n",
       "Kilometers_Driven     0\n",
       "Fuel_Type             0\n",
       "Transmission          0\n",
       "Owner_Type            0\n",
       "Mileage               2\n",
       "Engine               36\n",
       "Power                36\n",
       "Seats                42\n",
       "Price                 0\n",
       "dtype: int64"
      ]
     },
     "execution_count": 732,
     "metadata": {},
     "output_type": "execute_result"
    }
   ],
   "source": [
    "df.isna().sum()"
   ]
  },
  {
   "cell_type": "code",
   "execution_count": 733,
   "metadata": {},
   "outputs": [],
   "source": [
    "df.dropna(inplace=True)"
   ]
  },
  {
   "cell_type": "code",
   "execution_count": 734,
   "metadata": {},
   "outputs": [
    {
     "data": {
      "text/plain": [
       "(5975, 12)"
      ]
     },
     "execution_count": 734,
     "metadata": {},
     "output_type": "execute_result"
    }
   ],
   "source": [
    "df.shape"
   ]
  },
  {
   "cell_type": "code",
   "execution_count": 735,
   "metadata": {},
   "outputs": [
    {
     "data": {
      "text/html": [
       "<div>\n",
       "<style scoped>\n",
       "    .dataframe tbody tr th:only-of-type {\n",
       "        vertical-align: middle;\n",
       "    }\n",
       "\n",
       "    .dataframe tbody tr th {\n",
       "        vertical-align: top;\n",
       "    }\n",
       "\n",
       "    .dataframe thead th {\n",
       "        text-align: right;\n",
       "    }\n",
       "</style>\n",
       "<table border=\"1\" class=\"dataframe\">\n",
       "  <thead>\n",
       "    <tr style=\"text-align: right;\">\n",
       "      <th></th>\n",
       "      <th>Name</th>\n",
       "      <th>Location</th>\n",
       "      <th>Year</th>\n",
       "      <th>Kilometers_Driven</th>\n",
       "      <th>Fuel_Type</th>\n",
       "      <th>Transmission</th>\n",
       "      <th>Owner_Type</th>\n",
       "      <th>Mileage</th>\n",
       "      <th>Engine</th>\n",
       "      <th>Power</th>\n",
       "      <th>Seats</th>\n",
       "      <th>Price</th>\n",
       "    </tr>\n",
       "  </thead>\n",
       "  <tbody>\n",
       "    <tr>\n",
       "      <th>5133</th>\n",
       "      <td>Tata Zest Revotron 1.2 XT</td>\n",
       "      <td>Coimbatore</td>\n",
       "      <td>2015</td>\n",
       "      <td>27000</td>\n",
       "      <td>Petrol</td>\n",
       "      <td>Manual</td>\n",
       "      <td>First</td>\n",
       "      <td>17.57 kmpl</td>\n",
       "      <td>1193 CC</td>\n",
       "      <td>88.7 bhp</td>\n",
       "      <td>5.0</td>\n",
       "      <td>5.27</td>\n",
       "    </tr>\n",
       "    <tr>\n",
       "      <th>574</th>\n",
       "      <td>Maruti Swift VDI</td>\n",
       "      <td>Chennai</td>\n",
       "      <td>2014</td>\n",
       "      <td>35000</td>\n",
       "      <td>Diesel</td>\n",
       "      <td>Manual</td>\n",
       "      <td>First</td>\n",
       "      <td>22.9 kmpl</td>\n",
       "      <td>1248 CC</td>\n",
       "      <td>74 bhp</td>\n",
       "      <td>5.0</td>\n",
       "      <td>5.25</td>\n",
       "    </tr>\n",
       "    <tr>\n",
       "      <th>2162</th>\n",
       "      <td>Ford Fiesta 1.4 SXi TDCi ABS</td>\n",
       "      <td>Pune</td>\n",
       "      <td>2008</td>\n",
       "      <td>117080</td>\n",
       "      <td>Diesel</td>\n",
       "      <td>Manual</td>\n",
       "      <td>Third</td>\n",
       "      <td>17.8 kmpl</td>\n",
       "      <td>1399 CC</td>\n",
       "      <td>68 bhp</td>\n",
       "      <td>5.0</td>\n",
       "      <td>2.25</td>\n",
       "    </tr>\n",
       "    <tr>\n",
       "      <th>4054</th>\n",
       "      <td>Hyundai i20 Sportz 1.4 CRDi</td>\n",
       "      <td>Delhi</td>\n",
       "      <td>2017</td>\n",
       "      <td>25500</td>\n",
       "      <td>Diesel</td>\n",
       "      <td>Manual</td>\n",
       "      <td>First</td>\n",
       "      <td>22.54 kmpl</td>\n",
       "      <td>1396 CC</td>\n",
       "      <td>88.73 bhp</td>\n",
       "      <td>5.0</td>\n",
       "      <td>7.00</td>\n",
       "    </tr>\n",
       "    <tr>\n",
       "      <th>5361</th>\n",
       "      <td>Maruti A-Star AT VXI</td>\n",
       "      <td>Hyderabad</td>\n",
       "      <td>2013</td>\n",
       "      <td>56500</td>\n",
       "      <td>Petrol</td>\n",
       "      <td>Automatic</td>\n",
       "      <td>First</td>\n",
       "      <td>16.98 kmpl</td>\n",
       "      <td>998 CC</td>\n",
       "      <td>66.1 bhp</td>\n",
       "      <td>5.0</td>\n",
       "      <td>3.45</td>\n",
       "    </tr>\n",
       "    <tr>\n",
       "      <th>4801</th>\n",
       "      <td>Land Rover Freelander 2 SE</td>\n",
       "      <td>Hyderabad</td>\n",
       "      <td>2011</td>\n",
       "      <td>68000</td>\n",
       "      <td>Diesel</td>\n",
       "      <td>Automatic</td>\n",
       "      <td>First</td>\n",
       "      <td>12.39 kmpl</td>\n",
       "      <td>2179 CC</td>\n",
       "      <td>147.51 bhp</td>\n",
       "      <td>5.0</td>\n",
       "      <td>22.00</td>\n",
       "    </tr>\n",
       "    <tr>\n",
       "      <th>3738</th>\n",
       "      <td>Hyundai Grand i10 1.2 Kappa Sportz</td>\n",
       "      <td>Coimbatore</td>\n",
       "      <td>2016</td>\n",
       "      <td>29091</td>\n",
       "      <td>Petrol</td>\n",
       "      <td>Manual</td>\n",
       "      <td>First</td>\n",
       "      <td>18.9 kmpl</td>\n",
       "      <td>1197 CC</td>\n",
       "      <td>81.86 bhp</td>\n",
       "      <td>5.0</td>\n",
       "      <td>4.87</td>\n",
       "    </tr>\n",
       "    <tr>\n",
       "      <th>1351</th>\n",
       "      <td>Maruti Ciaz VXi Plus</td>\n",
       "      <td>Kochi</td>\n",
       "      <td>2015</td>\n",
       "      <td>44620</td>\n",
       "      <td>Petrol</td>\n",
       "      <td>Manual</td>\n",
       "      <td>First</td>\n",
       "      <td>20.73 kmpl</td>\n",
       "      <td>1373 CC</td>\n",
       "      <td>91.1 bhp</td>\n",
       "      <td>5.0</td>\n",
       "      <td>6.93</td>\n",
       "    </tr>\n",
       "    <tr>\n",
       "      <th>5203</th>\n",
       "      <td>Volkswagen Polo Diesel Highline 1.2L</td>\n",
       "      <td>Chennai</td>\n",
       "      <td>2017</td>\n",
       "      <td>26969</td>\n",
       "      <td>Diesel</td>\n",
       "      <td>Manual</td>\n",
       "      <td>First</td>\n",
       "      <td>22.07 kmpl</td>\n",
       "      <td>1199 CC</td>\n",
       "      <td>73.9 bhp</td>\n",
       "      <td>5.0</td>\n",
       "      <td>6.90</td>\n",
       "    </tr>\n",
       "    <tr>\n",
       "      <th>1991</th>\n",
       "      <td>Jeep Compass 2.0 Longitude</td>\n",
       "      <td>Kochi</td>\n",
       "      <td>2018</td>\n",
       "      <td>28937</td>\n",
       "      <td>Diesel</td>\n",
       "      <td>Manual</td>\n",
       "      <td>First</td>\n",
       "      <td>17.1 kmpl</td>\n",
       "      <td>1956 CC</td>\n",
       "      <td>170 bhp</td>\n",
       "      <td>5.0</td>\n",
       "      <td>17.02</td>\n",
       "    </tr>\n",
       "  </tbody>\n",
       "</table>\n",
       "</div>"
      ],
      "text/plain": [
       "                                      Name    Location  Year  \\\n",
       "5133             Tata Zest Revotron 1.2 XT  Coimbatore  2015   \n",
       "574                       Maruti Swift VDI     Chennai  2014   \n",
       "2162          Ford Fiesta 1.4 SXi TDCi ABS        Pune  2008   \n",
       "4054           Hyundai i20 Sportz 1.4 CRDi       Delhi  2017   \n",
       "5361                  Maruti A-Star AT VXI   Hyderabad  2013   \n",
       "4801            Land Rover Freelander 2 SE   Hyderabad  2011   \n",
       "3738    Hyundai Grand i10 1.2 Kappa Sportz  Coimbatore  2016   \n",
       "1351                  Maruti Ciaz VXi Plus       Kochi  2015   \n",
       "5203  Volkswagen Polo Diesel Highline 1.2L     Chennai  2017   \n",
       "1991            Jeep Compass 2.0 Longitude       Kochi  2018   \n",
       "\n",
       "      Kilometers_Driven Fuel_Type Transmission Owner_Type     Mileage  \\\n",
       "5133              27000    Petrol       Manual      First  17.57 kmpl   \n",
       "574               35000    Diesel       Manual      First   22.9 kmpl   \n",
       "2162             117080    Diesel       Manual      Third   17.8 kmpl   \n",
       "4054              25500    Diesel       Manual      First  22.54 kmpl   \n",
       "5361              56500    Petrol    Automatic      First  16.98 kmpl   \n",
       "4801              68000    Diesel    Automatic      First  12.39 kmpl   \n",
       "3738              29091    Petrol       Manual      First   18.9 kmpl   \n",
       "1351              44620    Petrol       Manual      First  20.73 kmpl   \n",
       "5203              26969    Diesel       Manual      First  22.07 kmpl   \n",
       "1991              28937    Diesel       Manual      First   17.1 kmpl   \n",
       "\n",
       "       Engine       Power  Seats  Price  \n",
       "5133  1193 CC    88.7 bhp    5.0   5.27  \n",
       "574   1248 CC      74 bhp    5.0   5.25  \n",
       "2162  1399 CC      68 bhp    5.0   2.25  \n",
       "4054  1396 CC   88.73 bhp    5.0   7.00  \n",
       "5361   998 CC    66.1 bhp    5.0   3.45  \n",
       "4801  2179 CC  147.51 bhp    5.0  22.00  \n",
       "3738  1197 CC   81.86 bhp    5.0   4.87  \n",
       "1351  1373 CC    91.1 bhp    5.0   6.93  \n",
       "5203  1199 CC    73.9 bhp    5.0   6.90  \n",
       "1991  1956 CC     170 bhp    5.0  17.02  "
      ]
     },
     "execution_count": 735,
     "metadata": {},
     "output_type": "execute_result"
    }
   ],
   "source": [
    "df.sample(10)"
   ]
  },
  {
   "cell_type": "code",
   "execution_count": 736,
   "metadata": {},
   "outputs": [
    {
     "name": "stdout",
     "output_type": "stream",
     "text": [
      "<class 'pandas.core.frame.DataFrame'>\n",
      "Int64Index: 5975 entries, 0 to 6018\n",
      "Data columns (total 12 columns):\n",
      "Name                 5975 non-null object\n",
      "Location             5975 non-null object\n",
      "Year                 5975 non-null int64\n",
      "Kilometers_Driven    5975 non-null int64\n",
      "Fuel_Type            5975 non-null object\n",
      "Transmission         5975 non-null object\n",
      "Owner_Type           5975 non-null object\n",
      "Mileage              5975 non-null object\n",
      "Engine               5975 non-null object\n",
      "Power                5975 non-null object\n",
      "Seats                5975 non-null float64\n",
      "Price                5975 non-null float64\n",
      "dtypes: float64(2), int64(2), object(8)\n",
      "memory usage: 606.8+ KB\n"
     ]
    }
   ],
   "source": [
    "df.info()"
   ]
  },
  {
   "cell_type": "code",
   "execution_count": 737,
   "metadata": {},
   "outputs": [
    {
     "data": {
      "text/html": [
       "<div>\n",
       "<style scoped>\n",
       "    .dataframe tbody tr th:only-of-type {\n",
       "        vertical-align: middle;\n",
       "    }\n",
       "\n",
       "    .dataframe tbody tr th {\n",
       "        vertical-align: top;\n",
       "    }\n",
       "\n",
       "    .dataframe thead th {\n",
       "        text-align: right;\n",
       "    }\n",
       "</style>\n",
       "<table border=\"1\" class=\"dataframe\">\n",
       "  <thead>\n",
       "    <tr style=\"text-align: right;\">\n",
       "      <th></th>\n",
       "      <th>Year</th>\n",
       "      <th>Kilometers_Driven</th>\n",
       "      <th>Seats</th>\n",
       "      <th>Price</th>\n",
       "    </tr>\n",
       "  </thead>\n",
       "  <tbody>\n",
       "    <tr>\n",
       "      <th>count</th>\n",
       "      <td>5975.000000</td>\n",
       "      <td>5.975000e+03</td>\n",
       "      <td>5975.000000</td>\n",
       "      <td>5975.000000</td>\n",
       "    </tr>\n",
       "    <tr>\n",
       "      <th>mean</th>\n",
       "      <td>2013.386778</td>\n",
       "      <td>5.867431e+04</td>\n",
       "      <td>5.278828</td>\n",
       "      <td>9.501647</td>\n",
       "    </tr>\n",
       "    <tr>\n",
       "      <th>std</th>\n",
       "      <td>3.247238</td>\n",
       "      <td>9.155851e+04</td>\n",
       "      <td>0.808959</td>\n",
       "      <td>11.205736</td>\n",
       "    </tr>\n",
       "    <tr>\n",
       "      <th>min</th>\n",
       "      <td>1998.000000</td>\n",
       "      <td>1.710000e+02</td>\n",
       "      <td>0.000000</td>\n",
       "      <td>0.440000</td>\n",
       "    </tr>\n",
       "    <tr>\n",
       "      <th>25%</th>\n",
       "      <td>2012.000000</td>\n",
       "      <td>3.390800e+04</td>\n",
       "      <td>5.000000</td>\n",
       "      <td>3.500000</td>\n",
       "    </tr>\n",
       "    <tr>\n",
       "      <th>50%</th>\n",
       "      <td>2014.000000</td>\n",
       "      <td>5.300000e+04</td>\n",
       "      <td>5.000000</td>\n",
       "      <td>5.650000</td>\n",
       "    </tr>\n",
       "    <tr>\n",
       "      <th>75%</th>\n",
       "      <td>2016.000000</td>\n",
       "      <td>7.300000e+04</td>\n",
       "      <td>5.000000</td>\n",
       "      <td>9.950000</td>\n",
       "    </tr>\n",
       "    <tr>\n",
       "      <th>max</th>\n",
       "      <td>2019.000000</td>\n",
       "      <td>6.500000e+06</td>\n",
       "      <td>10.000000</td>\n",
       "      <td>160.000000</td>\n",
       "    </tr>\n",
       "  </tbody>\n",
       "</table>\n",
       "</div>"
      ],
      "text/plain": [
       "              Year  Kilometers_Driven        Seats        Price\n",
       "count  5975.000000       5.975000e+03  5975.000000  5975.000000\n",
       "mean   2013.386778       5.867431e+04     5.278828     9.501647\n",
       "std       3.247238       9.155851e+04     0.808959    11.205736\n",
       "min    1998.000000       1.710000e+02     0.000000     0.440000\n",
       "25%    2012.000000       3.390800e+04     5.000000     3.500000\n",
       "50%    2014.000000       5.300000e+04     5.000000     5.650000\n",
       "75%    2016.000000       7.300000e+04     5.000000     9.950000\n",
       "max    2019.000000       6.500000e+06    10.000000   160.000000"
      ]
     },
     "execution_count": 737,
     "metadata": {},
     "output_type": "execute_result"
    }
   ],
   "source": [
    "df.describe()"
   ]
  },
  {
   "cell_type": "code",
   "execution_count": 738,
   "metadata": {},
   "outputs": [
    {
     "data": {
      "text/plain": [
       "array(['Mumbai', 'Pune', 'Chennai', 'Coimbatore', 'Hyderabad', 'Jaipur',\n",
       "       'Kochi', 'Kolkata', 'Delhi', 'Bangalore', 'Ahmedabad'],\n",
       "      dtype=object)"
      ]
     },
     "execution_count": 738,
     "metadata": {},
     "output_type": "execute_result"
    }
   ],
   "source": [
    "df['Location'].unique()"
   ]
  },
  {
   "cell_type": "code",
   "execution_count": 739,
   "metadata": {},
   "outputs": [
    {
     "data": {
      "text/plain": [
       "array(['First', 'Second', 'Fourth & Above', 'Third'], dtype=object)"
      ]
     },
     "execution_count": 739,
     "metadata": {},
     "output_type": "execute_result"
    }
   ],
   "source": [
    "df['Owner_Type'].unique()"
   ]
  },
  {
   "cell_type": "code",
   "execution_count": 740,
   "metadata": {},
   "outputs": [
    {
     "data": {
      "text/html": [
       "<div>\n",
       "<style scoped>\n",
       "    .dataframe tbody tr th:only-of-type {\n",
       "        vertical-align: middle;\n",
       "    }\n",
       "\n",
       "    .dataframe tbody tr th {\n",
       "        vertical-align: top;\n",
       "    }\n",
       "\n",
       "    .dataframe thead th {\n",
       "        text-align: right;\n",
       "    }\n",
       "</style>\n",
       "<table border=\"1\" class=\"dataframe\">\n",
       "  <thead>\n",
       "    <tr style=\"text-align: right;\">\n",
       "      <th></th>\n",
       "      <th>Name</th>\n",
       "      <th>Location</th>\n",
       "      <th>Year</th>\n",
       "      <th>Kilometers_Driven</th>\n",
       "      <th>Fuel_Type</th>\n",
       "      <th>Transmission</th>\n",
       "      <th>Owner_Type</th>\n",
       "      <th>Mileage</th>\n",
       "      <th>Engine</th>\n",
       "      <th>Power</th>\n",
       "      <th>Seats</th>\n",
       "      <th>Price</th>\n",
       "    </tr>\n",
       "  </thead>\n",
       "  <tbody>\n",
       "    <tr>\n",
       "      <th>29</th>\n",
       "      <td>Toyota Innova 2.5 V Diesel 7-seater</td>\n",
       "      <td>Mumbai</td>\n",
       "      <td>2007</td>\n",
       "      <td>262000</td>\n",
       "      <td>Diesel</td>\n",
       "      <td>Manual</td>\n",
       "      <td>Fourth &amp; Above</td>\n",
       "      <td>12.8 kmpl</td>\n",
       "      <td>2494 CC</td>\n",
       "      <td>102 bhp</td>\n",
       "      <td>7.0</td>\n",
       "      <td>4.00</td>\n",
       "    </tr>\n",
       "    <tr>\n",
       "      <th>885</th>\n",
       "      <td>Maruti Grand Vitara AT</td>\n",
       "      <td>Chennai</td>\n",
       "      <td>2008</td>\n",
       "      <td>77000</td>\n",
       "      <td>Petrol</td>\n",
       "      <td>Automatic</td>\n",
       "      <td>Fourth &amp; Above</td>\n",
       "      <td>9.7 kmpl</td>\n",
       "      <td>1995 CC</td>\n",
       "      <td>163.5 bhp</td>\n",
       "      <td>5.0</td>\n",
       "      <td>5.50</td>\n",
       "    </tr>\n",
       "    <tr>\n",
       "      <th>1081</th>\n",
       "      <td>Hyundai i20 1.2 Sportz Option</td>\n",
       "      <td>Bangalore</td>\n",
       "      <td>2010</td>\n",
       "      <td>61000</td>\n",
       "      <td>Petrol</td>\n",
       "      <td>Manual</td>\n",
       "      <td>Fourth &amp; Above</td>\n",
       "      <td>17.0 kmpl</td>\n",
       "      <td>1197 CC</td>\n",
       "      <td>80 bhp</td>\n",
       "      <td>5.0</td>\n",
       "      <td>3.25</td>\n",
       "    </tr>\n",
       "    <tr>\n",
       "      <th>1699</th>\n",
       "      <td>Ford Endeavour 4x2 XLT Limited Edition</td>\n",
       "      <td>Pune</td>\n",
       "      <td>2007</td>\n",
       "      <td>90000</td>\n",
       "      <td>Diesel</td>\n",
       "      <td>Manual</td>\n",
       "      <td>Fourth &amp; Above</td>\n",
       "      <td>10.9 kmpl</td>\n",
       "      <td>2499 CC</td>\n",
       "      <td>143 bhp</td>\n",
       "      <td>7.0</td>\n",
       "      <td>3.00</td>\n",
       "    </tr>\n",
       "    <tr>\n",
       "      <th>2988</th>\n",
       "      <td>Toyota Innova 2.5 G4 Diesel 8-seater</td>\n",
       "      <td>Chennai</td>\n",
       "      <td>2005</td>\n",
       "      <td>240000</td>\n",
       "      <td>Diesel</td>\n",
       "      <td>Manual</td>\n",
       "      <td>Fourth &amp; Above</td>\n",
       "      <td>12.8 kmpl</td>\n",
       "      <td>2494 CC</td>\n",
       "      <td>102 bhp</td>\n",
       "      <td>8.0</td>\n",
       "      <td>5.10</td>\n",
       "    </tr>\n",
       "    <tr>\n",
       "      <th>3368</th>\n",
       "      <td>Maruti Swift Ldi BSIII</td>\n",
       "      <td>Pune</td>\n",
       "      <td>2009</td>\n",
       "      <td>80000</td>\n",
       "      <td>Diesel</td>\n",
       "      <td>Manual</td>\n",
       "      <td>Fourth &amp; Above</td>\n",
       "      <td>17.8 kmpl</td>\n",
       "      <td>1248 CC</td>\n",
       "      <td>75 bhp</td>\n",
       "      <td>5.0</td>\n",
       "      <td>2.15</td>\n",
       "    </tr>\n",
       "    <tr>\n",
       "      <th>4148</th>\n",
       "      <td>Ford Ikon 1.3 Flair</td>\n",
       "      <td>Coimbatore</td>\n",
       "      <td>2008</td>\n",
       "      <td>59833</td>\n",
       "      <td>Petrol</td>\n",
       "      <td>Manual</td>\n",
       "      <td>Fourth &amp; Above</td>\n",
       "      <td>13.8 kmpl</td>\n",
       "      <td>1299 CC</td>\n",
       "      <td>70 bhp</td>\n",
       "      <td>5.0</td>\n",
       "      <td>1.97</td>\n",
       "    </tr>\n",
       "    <tr>\n",
       "      <th>5647</th>\n",
       "      <td>Toyota Qualis Fleet A3</td>\n",
       "      <td>Mumbai</td>\n",
       "      <td>2001</td>\n",
       "      <td>227000</td>\n",
       "      <td>Diesel</td>\n",
       "      <td>Manual</td>\n",
       "      <td>Fourth &amp; Above</td>\n",
       "      <td>0.0 kmpl</td>\n",
       "      <td>2446 CC</td>\n",
       "      <td>null bhp</td>\n",
       "      <td>8.0</td>\n",
       "      <td>2.20</td>\n",
       "    </tr>\n",
       "  </tbody>\n",
       "</table>\n",
       "</div>"
      ],
      "text/plain": [
       "                                        Name    Location  Year  \\\n",
       "29       Toyota Innova 2.5 V Diesel 7-seater      Mumbai  2007   \n",
       "885                   Maruti Grand Vitara AT     Chennai  2008   \n",
       "1081           Hyundai i20 1.2 Sportz Option   Bangalore  2010   \n",
       "1699  Ford Endeavour 4x2 XLT Limited Edition        Pune  2007   \n",
       "2988    Toyota Innova 2.5 G4 Diesel 8-seater     Chennai  2005   \n",
       "3368                  Maruti Swift Ldi BSIII        Pune  2009   \n",
       "4148                     Ford Ikon 1.3 Flair  Coimbatore  2008   \n",
       "5647                  Toyota Qualis Fleet A3      Mumbai  2001   \n",
       "\n",
       "      Kilometers_Driven Fuel_Type Transmission      Owner_Type    Mileage  \\\n",
       "29               262000    Diesel       Manual  Fourth & Above  12.8 kmpl   \n",
       "885               77000    Petrol    Automatic  Fourth & Above   9.7 kmpl   \n",
       "1081              61000    Petrol       Manual  Fourth & Above  17.0 kmpl   \n",
       "1699              90000    Diesel       Manual  Fourth & Above  10.9 kmpl   \n",
       "2988             240000    Diesel       Manual  Fourth & Above  12.8 kmpl   \n",
       "3368              80000    Diesel       Manual  Fourth & Above  17.8 kmpl   \n",
       "4148              59833    Petrol       Manual  Fourth & Above  13.8 kmpl   \n",
       "5647             227000    Diesel       Manual  Fourth & Above   0.0 kmpl   \n",
       "\n",
       "       Engine      Power  Seats  Price  \n",
       "29    2494 CC    102 bhp    7.0   4.00  \n",
       "885   1995 CC  163.5 bhp    5.0   5.50  \n",
       "1081  1197 CC     80 bhp    5.0   3.25  \n",
       "1699  2499 CC    143 bhp    7.0   3.00  \n",
       "2988  2494 CC    102 bhp    8.0   5.10  \n",
       "3368  1248 CC     75 bhp    5.0   2.15  \n",
       "4148  1299 CC     70 bhp    5.0   1.97  \n",
       "5647  2446 CC   null bhp    8.0   2.20  "
      ]
     },
     "execution_count": 740,
     "metadata": {},
     "output_type": "execute_result"
    }
   ],
   "source": [
    "df[df['Owner_Type']=='Fourth & Above']"
   ]
  },
  {
   "cell_type": "code",
   "execution_count": 741,
   "metadata": {},
   "outputs": [
    {
     "data": {
      "text/html": [
       "<div>\n",
       "<style scoped>\n",
       "    .dataframe tbody tr th:only-of-type {\n",
       "        vertical-align: middle;\n",
       "    }\n",
       "\n",
       "    .dataframe tbody tr th {\n",
       "        vertical-align: top;\n",
       "    }\n",
       "\n",
       "    .dataframe thead th {\n",
       "        text-align: right;\n",
       "    }\n",
       "</style>\n",
       "<table border=\"1\" class=\"dataframe\">\n",
       "  <thead>\n",
       "    <tr style=\"text-align: right;\">\n",
       "      <th></th>\n",
       "      <th>Year</th>\n",
       "      <th>Kilometers_Driven</th>\n",
       "      <th>Seats</th>\n",
       "      <th>Price</th>\n",
       "    </tr>\n",
       "  </thead>\n",
       "  <tbody>\n",
       "    <tr>\n",
       "      <th>Year</th>\n",
       "      <td>1.000000</td>\n",
       "      <td>-0.172663</td>\n",
       "      <td>0.012338</td>\n",
       "      <td>0.305800</td>\n",
       "    </tr>\n",
       "    <tr>\n",
       "      <th>Kilometers_Driven</th>\n",
       "      <td>-0.172663</td>\n",
       "      <td>1.000000</td>\n",
       "      <td>0.083101</td>\n",
       "      <td>-0.011263</td>\n",
       "    </tr>\n",
       "    <tr>\n",
       "      <th>Seats</th>\n",
       "      <td>0.012338</td>\n",
       "      <td>0.083101</td>\n",
       "      <td>1.000000</td>\n",
       "      <td>0.052262</td>\n",
       "    </tr>\n",
       "    <tr>\n",
       "      <th>Price</th>\n",
       "      <td>0.305800</td>\n",
       "      <td>-0.011263</td>\n",
       "      <td>0.052262</td>\n",
       "      <td>1.000000</td>\n",
       "    </tr>\n",
       "  </tbody>\n",
       "</table>\n",
       "</div>"
      ],
      "text/plain": [
       "                       Year  Kilometers_Driven     Seats     Price\n",
       "Year               1.000000          -0.172663  0.012338  0.305800\n",
       "Kilometers_Driven -0.172663           1.000000  0.083101 -0.011263\n",
       "Seats              0.012338           0.083101  1.000000  0.052262\n",
       "Price              0.305800          -0.011263  0.052262  1.000000"
      ]
     },
     "execution_count": 741,
     "metadata": {},
     "output_type": "execute_result"
    }
   ],
   "source": [
    "df.corr()"
   ]
  },
  {
   "cell_type": "code",
   "execution_count": 742,
   "metadata": {},
   "outputs": [
    {
     "data": {
      "text/html": [
       "<div>\n",
       "<style scoped>\n",
       "    .dataframe tbody tr th:only-of-type {\n",
       "        vertical-align: middle;\n",
       "    }\n",
       "\n",
       "    .dataframe tbody tr th {\n",
       "        vertical-align: top;\n",
       "    }\n",
       "\n",
       "    .dataframe thead th {\n",
       "        text-align: right;\n",
       "    }\n",
       "</style>\n",
       "<table border=\"1\" class=\"dataframe\">\n",
       "  <thead>\n",
       "    <tr style=\"text-align: right;\">\n",
       "      <th></th>\n",
       "      <th>First</th>\n",
       "      <th>Fourth &amp; Above</th>\n",
       "      <th>Second</th>\n",
       "      <th>Third</th>\n",
       "    </tr>\n",
       "  </thead>\n",
       "  <tbody>\n",
       "    <tr>\n",
       "      <th>0</th>\n",
       "      <td>1</td>\n",
       "      <td>0</td>\n",
       "      <td>0</td>\n",
       "      <td>0</td>\n",
       "    </tr>\n",
       "    <tr>\n",
       "      <th>1</th>\n",
       "      <td>1</td>\n",
       "      <td>0</td>\n",
       "      <td>0</td>\n",
       "      <td>0</td>\n",
       "    </tr>\n",
       "    <tr>\n",
       "      <th>2</th>\n",
       "      <td>1</td>\n",
       "      <td>0</td>\n",
       "      <td>0</td>\n",
       "      <td>0</td>\n",
       "    </tr>\n",
       "    <tr>\n",
       "      <th>3</th>\n",
       "      <td>1</td>\n",
       "      <td>0</td>\n",
       "      <td>0</td>\n",
       "      <td>0</td>\n",
       "    </tr>\n",
       "    <tr>\n",
       "      <th>4</th>\n",
       "      <td>0</td>\n",
       "      <td>0</td>\n",
       "      <td>1</td>\n",
       "      <td>0</td>\n",
       "    </tr>\n",
       "    <tr>\n",
       "      <th>...</th>\n",
       "      <td>...</td>\n",
       "      <td>...</td>\n",
       "      <td>...</td>\n",
       "      <td>...</td>\n",
       "    </tr>\n",
       "    <tr>\n",
       "      <th>6014</th>\n",
       "      <td>1</td>\n",
       "      <td>0</td>\n",
       "      <td>0</td>\n",
       "      <td>0</td>\n",
       "    </tr>\n",
       "    <tr>\n",
       "      <th>6015</th>\n",
       "      <td>1</td>\n",
       "      <td>0</td>\n",
       "      <td>0</td>\n",
       "      <td>0</td>\n",
       "    </tr>\n",
       "    <tr>\n",
       "      <th>6016</th>\n",
       "      <td>0</td>\n",
       "      <td>0</td>\n",
       "      <td>1</td>\n",
       "      <td>0</td>\n",
       "    </tr>\n",
       "    <tr>\n",
       "      <th>6017</th>\n",
       "      <td>1</td>\n",
       "      <td>0</td>\n",
       "      <td>0</td>\n",
       "      <td>0</td>\n",
       "    </tr>\n",
       "    <tr>\n",
       "      <th>6018</th>\n",
       "      <td>1</td>\n",
       "      <td>0</td>\n",
       "      <td>0</td>\n",
       "      <td>0</td>\n",
       "    </tr>\n",
       "  </tbody>\n",
       "</table>\n",
       "<p>5975 rows × 4 columns</p>\n",
       "</div>"
      ],
      "text/plain": [
       "      First  Fourth & Above  Second  Third\n",
       "0         1               0       0      0\n",
       "1         1               0       0      0\n",
       "2         1               0       0      0\n",
       "3         1               0       0      0\n",
       "4         0               0       1      0\n",
       "...     ...             ...     ...    ...\n",
       "6014      1               0       0      0\n",
       "6015      1               0       0      0\n",
       "6016      0               0       1      0\n",
       "6017      1               0       0      0\n",
       "6018      1               0       0      0\n",
       "\n",
       "[5975 rows x 4 columns]"
      ]
     },
     "execution_count": 742,
     "metadata": {},
     "output_type": "execute_result"
    }
   ],
   "source": [
    "pd.get_dummies(df['Owner_Type'])"
   ]
  },
  {
   "cell_type": "code",
   "execution_count": 743,
   "metadata": {},
   "outputs": [
    {
     "data": {
      "text/plain": [
       "array(['CNG', 'Diesel', 'Petrol', 'LPG'], dtype=object)"
      ]
     },
     "execution_count": 743,
     "metadata": {},
     "output_type": "execute_result"
    }
   ],
   "source": [
    "df['Fuel_Type'].unique()"
   ]
  },
  {
   "cell_type": "code",
   "execution_count": 744,
   "metadata": {},
   "outputs": [
    {
     "data": {
      "text/plain": [
       "array([ 5.,  7.,  8.,  4.,  6.,  2., 10.,  9.,  0.])"
      ]
     },
     "execution_count": 744,
     "metadata": {},
     "output_type": "execute_result"
    }
   ],
   "source": [
    "df['Seats'].unique()"
   ]
  },
  {
   "cell_type": "code",
   "execution_count": 745,
   "metadata": {},
   "outputs": [
    {
     "data": {
      "text/plain": [
       "array(['Manual', 'Automatic'], dtype=object)"
      ]
     },
     "execution_count": 745,
     "metadata": {},
     "output_type": "execute_result"
    }
   ],
   "source": [
    "df['Transmission'].unique()"
   ]
  },
  {
   "cell_type": "code",
   "execution_count": 746,
   "metadata": {},
   "outputs": [
    {
     "data": {
      "text/html": [
       "<div>\n",
       "<style scoped>\n",
       "    .dataframe tbody tr th:only-of-type {\n",
       "        vertical-align: middle;\n",
       "    }\n",
       "\n",
       "    .dataframe tbody tr th {\n",
       "        vertical-align: top;\n",
       "    }\n",
       "\n",
       "    .dataframe thead th {\n",
       "        text-align: right;\n",
       "    }\n",
       "</style>\n",
       "<table border=\"1\" class=\"dataframe\">\n",
       "  <thead>\n",
       "    <tr style=\"text-align: right;\">\n",
       "      <th></th>\n",
       "      <th>Name</th>\n",
       "      <th>Location</th>\n",
       "      <th>Year</th>\n",
       "      <th>Kilometers_Driven</th>\n",
       "      <th>Fuel_Type</th>\n",
       "      <th>Transmission</th>\n",
       "      <th>Owner_Type</th>\n",
       "      <th>Mileage</th>\n",
       "      <th>Engine</th>\n",
       "      <th>Power</th>\n",
       "      <th>Seats</th>\n",
       "      <th>Price</th>\n",
       "    </tr>\n",
       "  </thead>\n",
       "  <tbody>\n",
       "    <tr>\n",
       "      <th>0</th>\n",
       "      <td>Maruti Wagon R LXI CNG</td>\n",
       "      <td>Mumbai</td>\n",
       "      <td>2010</td>\n",
       "      <td>72000</td>\n",
       "      <td>CNG</td>\n",
       "      <td>Manual</td>\n",
       "      <td>First</td>\n",
       "      <td>26.6 km/kg</td>\n",
       "      <td>998 CC</td>\n",
       "      <td>58.16 bhp</td>\n",
       "      <td>5.0</td>\n",
       "      <td>1.75</td>\n",
       "    </tr>\n",
       "    <tr>\n",
       "      <th>1</th>\n",
       "      <td>Hyundai Creta 1.6 CRDi SX Option</td>\n",
       "      <td>Pune</td>\n",
       "      <td>2015</td>\n",
       "      <td>41000</td>\n",
       "      <td>Diesel</td>\n",
       "      <td>Manual</td>\n",
       "      <td>First</td>\n",
       "      <td>19.67 kmpl</td>\n",
       "      <td>1582 CC</td>\n",
       "      <td>126.2 bhp</td>\n",
       "      <td>5.0</td>\n",
       "      <td>12.50</td>\n",
       "    </tr>\n",
       "    <tr>\n",
       "      <th>2</th>\n",
       "      <td>Honda Jazz V</td>\n",
       "      <td>Chennai</td>\n",
       "      <td>2011</td>\n",
       "      <td>46000</td>\n",
       "      <td>Petrol</td>\n",
       "      <td>Manual</td>\n",
       "      <td>First</td>\n",
       "      <td>18.2 kmpl</td>\n",
       "      <td>1199 CC</td>\n",
       "      <td>88.7 bhp</td>\n",
       "      <td>5.0</td>\n",
       "      <td>4.50</td>\n",
       "    </tr>\n",
       "    <tr>\n",
       "      <th>3</th>\n",
       "      <td>Maruti Ertiga VDI</td>\n",
       "      <td>Chennai</td>\n",
       "      <td>2012</td>\n",
       "      <td>87000</td>\n",
       "      <td>Diesel</td>\n",
       "      <td>Manual</td>\n",
       "      <td>First</td>\n",
       "      <td>20.77 kmpl</td>\n",
       "      <td>1248 CC</td>\n",
       "      <td>88.76 bhp</td>\n",
       "      <td>7.0</td>\n",
       "      <td>6.00</td>\n",
       "    </tr>\n",
       "    <tr>\n",
       "      <th>4</th>\n",
       "      <td>Audi A4 New 2.0 TDI Multitronic</td>\n",
       "      <td>Coimbatore</td>\n",
       "      <td>2013</td>\n",
       "      <td>40670</td>\n",
       "      <td>Diesel</td>\n",
       "      <td>Automatic</td>\n",
       "      <td>Second</td>\n",
       "      <td>15.2 kmpl</td>\n",
       "      <td>1968 CC</td>\n",
       "      <td>140.8 bhp</td>\n",
       "      <td>5.0</td>\n",
       "      <td>17.74</td>\n",
       "    </tr>\n",
       "  </tbody>\n",
       "</table>\n",
       "</div>"
      ],
      "text/plain": [
       "                               Name    Location  Year  Kilometers_Driven  \\\n",
       "0            Maruti Wagon R LXI CNG      Mumbai  2010              72000   \n",
       "1  Hyundai Creta 1.6 CRDi SX Option        Pune  2015              41000   \n",
       "2                      Honda Jazz V     Chennai  2011              46000   \n",
       "3                 Maruti Ertiga VDI     Chennai  2012              87000   \n",
       "4   Audi A4 New 2.0 TDI Multitronic  Coimbatore  2013              40670   \n",
       "\n",
       "  Fuel_Type Transmission Owner_Type     Mileage   Engine      Power  Seats  \\\n",
       "0       CNG       Manual      First  26.6 km/kg   998 CC  58.16 bhp    5.0   \n",
       "1    Diesel       Manual      First  19.67 kmpl  1582 CC  126.2 bhp    5.0   \n",
       "2    Petrol       Manual      First   18.2 kmpl  1199 CC   88.7 bhp    5.0   \n",
       "3    Diesel       Manual      First  20.77 kmpl  1248 CC  88.76 bhp    7.0   \n",
       "4    Diesel    Automatic     Second   15.2 kmpl  1968 CC  140.8 bhp    5.0   \n",
       "\n",
       "   Price  \n",
       "0   1.75  \n",
       "1  12.50  \n",
       "2   4.50  \n",
       "3   6.00  \n",
       "4  17.74  "
      ]
     },
     "execution_count": 746,
     "metadata": {},
     "output_type": "execute_result"
    }
   ],
   "source": [
    "df.head()"
   ]
  },
  {
   "cell_type": "markdown",
   "metadata": {},
   "source": [
    "# Task\n",
    "1. change power to float\n",
    "2. change engine to int/float\n",
    "3. change mileage to float\n",
    "4. Change owner type to categorical\n",
    "5. change Transmission  to categorical\n",
    "6. Change Fuel_type to categorical\n",
    "7. Derive brand, model from name\n",
    "8. draw different plots"
   ]
  },
  {
   "cell_type": "code",
   "execution_count": 747,
   "metadata": {},
   "outputs": [],
   "source": [
    "power_list = list(df['Power'])"
   ]
  },
  {
   "cell_type": "code",
   "execution_count": 748,
   "metadata": {},
   "outputs": [],
   "source": [
    "power=[]"
   ]
  },
  {
   "cell_type": "code",
   "execution_count": 749,
   "metadata": {},
   "outputs": [],
   "source": [
    "#power_list"
   ]
  },
  {
   "cell_type": "code",
   "execution_count": 750,
   "metadata": {},
   "outputs": [],
   "source": [
    "for name in power_list:\n",
    "    power.append(name.split()[0])"
   ]
  },
  {
   "cell_type": "code",
   "execution_count": 751,
   "metadata": {},
   "outputs": [],
   "source": [
    "df['Power'] = power"
   ]
  },
  {
   "cell_type": "code",
   "execution_count": 752,
   "metadata": {},
   "outputs": [],
   "source": [
    "df = df[df['Power'] != 'null' ]"
   ]
  },
  {
   "cell_type": "code",
   "execution_count": 753,
   "metadata": {},
   "outputs": [
    {
     "data": {
      "text/plain": [
       "(5872, 12)"
      ]
     },
     "execution_count": 753,
     "metadata": {},
     "output_type": "execute_result"
    }
   ],
   "source": [
    "df.shape"
   ]
  },
  {
   "cell_type": "code",
   "execution_count": null,
   "metadata": {},
   "outputs": [],
   "source": [
    "df['Power'] = df['Power'].astype('float')"
   ]
  },
  {
   "cell_type": "code",
   "execution_count": 755,
   "metadata": {},
   "outputs": [],
   "source": [
    "engine_list = list(df['Engine'])"
   ]
  },
  {
   "cell_type": "code",
   "execution_count": 756,
   "metadata": {},
   "outputs": [],
   "source": [
    "engine = []"
   ]
  },
  {
   "cell_type": "code",
   "execution_count": 757,
   "metadata": {},
   "outputs": [],
   "source": [
    "for name in engine_list:\n",
    "    engine.append(name.split(' ')[0])"
   ]
  },
  {
   "cell_type": "code",
   "execution_count": 758,
   "metadata": {},
   "outputs": [],
   "source": [
    "df['Engine'] = engine"
   ]
  },
  {
   "cell_type": "code",
   "execution_count": 759,
   "metadata": {},
   "outputs": [],
   "source": [
    "df['Engine'] = df['Engine'].astype('float')"
   ]
  },
  {
   "cell_type": "code",
   "execution_count": 760,
   "metadata": {},
   "outputs": [],
   "source": [
    "mileage_list = list(df['Mileage'])"
   ]
  },
  {
   "cell_type": "code",
   "execution_count": 761,
   "metadata": {},
   "outputs": [],
   "source": [
    "unique_unit = []"
   ]
  },
  {
   "cell_type": "code",
   "execution_count": 762,
   "metadata": {},
   "outputs": [],
   "source": [
    "for x in mileage_list:\n",
    "    unit = x.split(' ')[1]\n",
    "    if unit not in unique_unit:\n",
    "        unique_unit.append(unit)"
   ]
  },
  {
   "cell_type": "code",
   "execution_count": 763,
   "metadata": {},
   "outputs": [
    {
     "data": {
      "text/plain": [
       "['km/kg', 'kmpl']"
      ]
     },
     "execution_count": 763,
     "metadata": {},
     "output_type": "execute_result"
    }
   ],
   "source": [
    "unique_unit"
   ]
  },
  {
   "cell_type": "markdown",
   "metadata": {},
   "source": [
    "1 kg = 1 l\n",
    "<br>So unit km/kg and kmpl are equal</br>"
   ]
  },
  {
   "cell_type": "code",
   "execution_count": 764,
   "metadata": {},
   "outputs": [],
   "source": [
    "mileage = []"
   ]
  },
  {
   "cell_type": "code",
   "execution_count": 765,
   "metadata": {},
   "outputs": [],
   "source": [
    "for x in mileage_list:\n",
    "    mileage.append(x.split(' ')[0])"
   ]
  },
  {
   "cell_type": "code",
   "execution_count": 766,
   "metadata": {},
   "outputs": [],
   "source": [
    "df['Mileage'] = mileage"
   ]
  },
  {
   "cell_type": "code",
   "execution_count": 767,
   "metadata": {},
   "outputs": [],
   "source": [
    "df['Mileage'] = df['Mileage'].astype('float')"
   ]
  },
  {
   "cell_type": "code",
   "execution_count": 768,
   "metadata": {},
   "outputs": [
    {
     "data": {
      "text/plain": [
       "array(['First', 'Second', 'Fourth & Above', 'Third'], dtype=object)"
      ]
     },
     "execution_count": 768,
     "metadata": {},
     "output_type": "execute_result"
    }
   ],
   "source": [
    "df['Owner_Type'].unique()"
   ]
  },
  {
   "cell_type": "code",
   "execution_count": 769,
   "metadata": {},
   "outputs": [],
   "source": [
    "def owner_numerical(x):\n",
    "    if (x == 'First'):\n",
    "        return 1\n",
    "    elif (x == 'Second'):\n",
    "        return 2\n",
    "    elif (x == 'Third'):\n",
    "        return 3\n",
    "    elif (x == 'Fourth & Above'):\n",
    "        return 4"
   ]
  },
  {
   "cell_type": "code",
   "execution_count": 770,
   "metadata": {},
   "outputs": [],
   "source": [
    "df['Owner_Type'] = df['Owner_Type'].apply(owner_numerical)"
   ]
  },
  {
   "cell_type": "code",
   "execution_count": 771,
   "metadata": {},
   "outputs": [],
   "source": [
    "def Transmission_numerical(x):\n",
    "    if (x == 'Manual'):\n",
    "        return 0\n",
    "    elif (x == 'Automatic'):\n",
    "        return 1"
   ]
  },
  {
   "cell_type": "code",
   "execution_count": 772,
   "metadata": {},
   "outputs": [],
   "source": [
    "df['Transmission'] = df['Transmission'].apply(Transmission_numerical)"
   ]
  },
  {
   "cell_type": "code",
   "execution_count": 773,
   "metadata": {},
   "outputs": [
    {
     "data": {
      "text/html": [
       "<div>\n",
       "<style scoped>\n",
       "    .dataframe tbody tr th:only-of-type {\n",
       "        vertical-align: middle;\n",
       "    }\n",
       "\n",
       "    .dataframe tbody tr th {\n",
       "        vertical-align: top;\n",
       "    }\n",
       "\n",
       "    .dataframe thead th {\n",
       "        text-align: right;\n",
       "    }\n",
       "</style>\n",
       "<table border=\"1\" class=\"dataframe\">\n",
       "  <thead>\n",
       "    <tr style=\"text-align: right;\">\n",
       "      <th></th>\n",
       "      <th>Name</th>\n",
       "      <th>Location</th>\n",
       "      <th>Year</th>\n",
       "      <th>Kilometers_Driven</th>\n",
       "      <th>Fuel_Type</th>\n",
       "      <th>Transmission</th>\n",
       "      <th>Owner_Type</th>\n",
       "      <th>Mileage</th>\n",
       "      <th>Engine</th>\n",
       "      <th>Power</th>\n",
       "      <th>Seats</th>\n",
       "      <th>Price</th>\n",
       "    </tr>\n",
       "  </thead>\n",
       "  <tbody>\n",
       "    <tr>\n",
       "      <th>0</th>\n",
       "      <td>Maruti Wagon R LXI CNG</td>\n",
       "      <td>Mumbai</td>\n",
       "      <td>2010</td>\n",
       "      <td>72000</td>\n",
       "      <td>CNG</td>\n",
       "      <td>0</td>\n",
       "      <td>1</td>\n",
       "      <td>26.60</td>\n",
       "      <td>998.0</td>\n",
       "      <td>58.16</td>\n",
       "      <td>5.0</td>\n",
       "      <td>1.75</td>\n",
       "    </tr>\n",
       "    <tr>\n",
       "      <th>1</th>\n",
       "      <td>Hyundai Creta 1.6 CRDi SX Option</td>\n",
       "      <td>Pune</td>\n",
       "      <td>2015</td>\n",
       "      <td>41000</td>\n",
       "      <td>Diesel</td>\n",
       "      <td>0</td>\n",
       "      <td>1</td>\n",
       "      <td>19.67</td>\n",
       "      <td>1582.0</td>\n",
       "      <td>126.20</td>\n",
       "      <td>5.0</td>\n",
       "      <td>12.50</td>\n",
       "    </tr>\n",
       "    <tr>\n",
       "      <th>2</th>\n",
       "      <td>Honda Jazz V</td>\n",
       "      <td>Chennai</td>\n",
       "      <td>2011</td>\n",
       "      <td>46000</td>\n",
       "      <td>Petrol</td>\n",
       "      <td>0</td>\n",
       "      <td>1</td>\n",
       "      <td>18.20</td>\n",
       "      <td>1199.0</td>\n",
       "      <td>88.70</td>\n",
       "      <td>5.0</td>\n",
       "      <td>4.50</td>\n",
       "    </tr>\n",
       "    <tr>\n",
       "      <th>3</th>\n",
       "      <td>Maruti Ertiga VDI</td>\n",
       "      <td>Chennai</td>\n",
       "      <td>2012</td>\n",
       "      <td>87000</td>\n",
       "      <td>Diesel</td>\n",
       "      <td>0</td>\n",
       "      <td>1</td>\n",
       "      <td>20.77</td>\n",
       "      <td>1248.0</td>\n",
       "      <td>88.76</td>\n",
       "      <td>7.0</td>\n",
       "      <td>6.00</td>\n",
       "    </tr>\n",
       "    <tr>\n",
       "      <th>4</th>\n",
       "      <td>Audi A4 New 2.0 TDI Multitronic</td>\n",
       "      <td>Coimbatore</td>\n",
       "      <td>2013</td>\n",
       "      <td>40670</td>\n",
       "      <td>Diesel</td>\n",
       "      <td>1</td>\n",
       "      <td>2</td>\n",
       "      <td>15.20</td>\n",
       "      <td>1968.0</td>\n",
       "      <td>140.80</td>\n",
       "      <td>5.0</td>\n",
       "      <td>17.74</td>\n",
       "    </tr>\n",
       "  </tbody>\n",
       "</table>\n",
       "</div>"
      ],
      "text/plain": [
       "                               Name    Location  Year  Kilometers_Driven  \\\n",
       "0            Maruti Wagon R LXI CNG      Mumbai  2010              72000   \n",
       "1  Hyundai Creta 1.6 CRDi SX Option        Pune  2015              41000   \n",
       "2                      Honda Jazz V     Chennai  2011              46000   \n",
       "3                 Maruti Ertiga VDI     Chennai  2012              87000   \n",
       "4   Audi A4 New 2.0 TDI Multitronic  Coimbatore  2013              40670   \n",
       "\n",
       "  Fuel_Type  Transmission  Owner_Type  Mileage  Engine   Power  Seats  Price  \n",
       "0       CNG             0           1    26.60   998.0   58.16    5.0   1.75  \n",
       "1    Diesel             0           1    19.67  1582.0  126.20    5.0  12.50  \n",
       "2    Petrol             0           1    18.20  1199.0   88.70    5.0   4.50  \n",
       "3    Diesel             0           1    20.77  1248.0   88.76    7.0   6.00  \n",
       "4    Diesel             1           2    15.20  1968.0  140.80    5.0  17.74  "
      ]
     },
     "execution_count": 773,
     "metadata": {},
     "output_type": "execute_result"
    }
   ],
   "source": [
    "df.head()"
   ]
  },
  {
   "cell_type": "code",
   "execution_count": 774,
   "metadata": {},
   "outputs": [
    {
     "data": {
      "text/plain": [
       "array(['CNG', 'Diesel', 'Petrol', 'LPG'], dtype=object)"
      ]
     },
     "execution_count": 774,
     "metadata": {},
     "output_type": "execute_result"
    }
   ],
   "source": [
    "df['Fuel_Type'].unique()"
   ]
  },
  {
   "cell_type": "code",
   "execution_count": 775,
   "metadata": {},
   "outputs": [],
   "source": [
    "def fuel_type_numerical(x):\n",
    "    if (x == 'CNG'):\n",
    "        return 0\n",
    "    elif (x == 'Diesel'):\n",
    "        return 1\n",
    "    elif (x == 'Petrol'):\n",
    "        return 2\n",
    "    elif (x == 'LPG'):\n",
    "        return 3"
   ]
  },
  {
   "cell_type": "code",
   "execution_count": 776,
   "metadata": {},
   "outputs": [],
   "source": [
    "df['Fuel_Type'] = df['Fuel_Type'].apply(fuel_type_numerical)"
   ]
  },
  {
   "cell_type": "code",
   "execution_count": 777,
   "metadata": {},
   "outputs": [
    {
     "data": {
      "text/html": [
       "<div>\n",
       "<style scoped>\n",
       "    .dataframe tbody tr th:only-of-type {\n",
       "        vertical-align: middle;\n",
       "    }\n",
       "\n",
       "    .dataframe tbody tr th {\n",
       "        vertical-align: top;\n",
       "    }\n",
       "\n",
       "    .dataframe thead th {\n",
       "        text-align: right;\n",
       "    }\n",
       "</style>\n",
       "<table border=\"1\" class=\"dataframe\">\n",
       "  <thead>\n",
       "    <tr style=\"text-align: right;\">\n",
       "      <th></th>\n",
       "      <th>Name</th>\n",
       "      <th>Location</th>\n",
       "      <th>Year</th>\n",
       "      <th>Kilometers_Driven</th>\n",
       "      <th>Fuel_Type</th>\n",
       "      <th>Transmission</th>\n",
       "      <th>Owner_Type</th>\n",
       "      <th>Mileage</th>\n",
       "      <th>Engine</th>\n",
       "      <th>Power</th>\n",
       "      <th>Seats</th>\n",
       "      <th>Price</th>\n",
       "    </tr>\n",
       "  </thead>\n",
       "  <tbody>\n",
       "    <tr>\n",
       "      <th>0</th>\n",
       "      <td>Maruti Wagon R LXI CNG</td>\n",
       "      <td>Mumbai</td>\n",
       "      <td>2010</td>\n",
       "      <td>72000</td>\n",
       "      <td>0</td>\n",
       "      <td>0</td>\n",
       "      <td>1</td>\n",
       "      <td>26.60</td>\n",
       "      <td>998.0</td>\n",
       "      <td>58.16</td>\n",
       "      <td>5.0</td>\n",
       "      <td>1.75</td>\n",
       "    </tr>\n",
       "    <tr>\n",
       "      <th>1</th>\n",
       "      <td>Hyundai Creta 1.6 CRDi SX Option</td>\n",
       "      <td>Pune</td>\n",
       "      <td>2015</td>\n",
       "      <td>41000</td>\n",
       "      <td>1</td>\n",
       "      <td>0</td>\n",
       "      <td>1</td>\n",
       "      <td>19.67</td>\n",
       "      <td>1582.0</td>\n",
       "      <td>126.20</td>\n",
       "      <td>5.0</td>\n",
       "      <td>12.50</td>\n",
       "    </tr>\n",
       "    <tr>\n",
       "      <th>2</th>\n",
       "      <td>Honda Jazz V</td>\n",
       "      <td>Chennai</td>\n",
       "      <td>2011</td>\n",
       "      <td>46000</td>\n",
       "      <td>2</td>\n",
       "      <td>0</td>\n",
       "      <td>1</td>\n",
       "      <td>18.20</td>\n",
       "      <td>1199.0</td>\n",
       "      <td>88.70</td>\n",
       "      <td>5.0</td>\n",
       "      <td>4.50</td>\n",
       "    </tr>\n",
       "    <tr>\n",
       "      <th>3</th>\n",
       "      <td>Maruti Ertiga VDI</td>\n",
       "      <td>Chennai</td>\n",
       "      <td>2012</td>\n",
       "      <td>87000</td>\n",
       "      <td>1</td>\n",
       "      <td>0</td>\n",
       "      <td>1</td>\n",
       "      <td>20.77</td>\n",
       "      <td>1248.0</td>\n",
       "      <td>88.76</td>\n",
       "      <td>7.0</td>\n",
       "      <td>6.00</td>\n",
       "    </tr>\n",
       "    <tr>\n",
       "      <th>4</th>\n",
       "      <td>Audi A4 New 2.0 TDI Multitronic</td>\n",
       "      <td>Coimbatore</td>\n",
       "      <td>2013</td>\n",
       "      <td>40670</td>\n",
       "      <td>1</td>\n",
       "      <td>1</td>\n",
       "      <td>2</td>\n",
       "      <td>15.20</td>\n",
       "      <td>1968.0</td>\n",
       "      <td>140.80</td>\n",
       "      <td>5.0</td>\n",
       "      <td>17.74</td>\n",
       "    </tr>\n",
       "  </tbody>\n",
       "</table>\n",
       "</div>"
      ],
      "text/plain": [
       "                               Name    Location  Year  Kilometers_Driven  \\\n",
       "0            Maruti Wagon R LXI CNG      Mumbai  2010              72000   \n",
       "1  Hyundai Creta 1.6 CRDi SX Option        Pune  2015              41000   \n",
       "2                      Honda Jazz V     Chennai  2011              46000   \n",
       "3                 Maruti Ertiga VDI     Chennai  2012              87000   \n",
       "4   Audi A4 New 2.0 TDI Multitronic  Coimbatore  2013              40670   \n",
       "\n",
       "   Fuel_Type  Transmission  Owner_Type  Mileage  Engine   Power  Seats  Price  \n",
       "0          0             0           1    26.60   998.0   58.16    5.0   1.75  \n",
       "1          1             0           1    19.67  1582.0  126.20    5.0  12.50  \n",
       "2          2             0           1    18.20  1199.0   88.70    5.0   4.50  \n",
       "3          1             0           1    20.77  1248.0   88.76    7.0   6.00  \n",
       "4          1             1           2    15.20  1968.0  140.80    5.0  17.74  "
      ]
     },
     "execution_count": 777,
     "metadata": {},
     "output_type": "execute_result"
    }
   ],
   "source": [
    "df.head()"
   ]
  },
  {
   "cell_type": "code",
   "execution_count": 778,
   "metadata": {},
   "outputs": [],
   "source": [
    "car_name = []\n",
    "unique_car_brand = []"
   ]
  },
  {
   "cell_type": "code",
   "execution_count": 779,
   "metadata": {},
   "outputs": [],
   "source": [
    "car_name = list(df['Name'])"
   ]
  },
  {
   "cell_type": "code",
   "execution_count": 780,
   "metadata": {},
   "outputs": [],
   "source": [
    "for x in car_name:\n",
    "    brand = (x.split(' ')[0])\n",
    "    if brand not in unique_car_brand:\n",
    "        unique_car_brand.append(brand)\n",
    "        "
   ]
  },
  {
   "cell_type": "code",
   "execution_count": 781,
   "metadata": {},
   "outputs": [
    {
     "data": {
      "text/plain": [
       "['Maruti',\n",
       " 'Hyundai',\n",
       " 'Honda',\n",
       " 'Audi',\n",
       " 'Nissan',\n",
       " 'Toyota',\n",
       " 'Volkswagen',\n",
       " 'Tata',\n",
       " 'Land',\n",
       " 'Mitsubishi',\n",
       " 'Renault',\n",
       " 'Mercedes-Benz',\n",
       " 'BMW',\n",
       " 'Mahindra',\n",
       " 'Ford',\n",
       " 'Porsche',\n",
       " 'Datsun',\n",
       " 'Jaguar',\n",
       " 'Volvo',\n",
       " 'Chevrolet',\n",
       " 'Skoda',\n",
       " 'Mini',\n",
       " 'Fiat',\n",
       " 'Jeep',\n",
       " 'Ambassador',\n",
       " 'ISUZU',\n",
       " 'Force',\n",
       " 'Bentley',\n",
       " 'Lamborghini']"
      ]
     },
     "execution_count": 781,
     "metadata": {},
     "output_type": "execute_result"
    }
   ],
   "source": [
    "unique_car_brand"
   ]
  },
  {
   "cell_type": "code",
   "execution_count": 782,
   "metadata": {},
   "outputs": [],
   "source": [
    "brand=[]"
   ]
  },
  {
   "cell_type": "code",
   "execution_count": 783,
   "metadata": {},
   "outputs": [],
   "source": [
    "for x in df['Name']:\n",
    "    brand.append(x.split(' ')[0])"
   ]
  },
  {
   "cell_type": "code",
   "execution_count": 784,
   "metadata": {},
   "outputs": [],
   "source": [
    "df.insert(loc = 0, column = 'Brand', value=brand, allow_duplicates=True)"
   ]
  },
  {
   "cell_type": "markdown",
   "metadata": {},
   "source": [
    "##### Label Processing"
   ]
  },
  {
   "cell_type": "code",
   "execution_count": 785,
   "metadata": {},
   "outputs": [
    {
     "data": {
      "text/html": [
       "<div>\n",
       "<style scoped>\n",
       "    .dataframe tbody tr th:only-of-type {\n",
       "        vertical-align: middle;\n",
       "    }\n",
       "\n",
       "    .dataframe tbody tr th {\n",
       "        vertical-align: top;\n",
       "    }\n",
       "\n",
       "    .dataframe thead th {\n",
       "        text-align: right;\n",
       "    }\n",
       "</style>\n",
       "<table border=\"1\" class=\"dataframe\">\n",
       "  <thead>\n",
       "    <tr style=\"text-align: right;\">\n",
       "      <th></th>\n",
       "      <th>Brand</th>\n",
       "      <th>Name</th>\n",
       "      <th>Location</th>\n",
       "      <th>Year</th>\n",
       "      <th>Kilometers_Driven</th>\n",
       "      <th>Fuel_Type</th>\n",
       "      <th>Transmission</th>\n",
       "      <th>Owner_Type</th>\n",
       "      <th>Mileage</th>\n",
       "      <th>Engine</th>\n",
       "      <th>Power</th>\n",
       "      <th>Seats</th>\n",
       "      <th>Price</th>\n",
       "    </tr>\n",
       "  </thead>\n",
       "  <tbody>\n",
       "    <tr>\n",
       "      <th>0</th>\n",
       "      <td>17</td>\n",
       "      <td>Maruti Wagon R LXI CNG</td>\n",
       "      <td>9</td>\n",
       "      <td>2010</td>\n",
       "      <td>72000</td>\n",
       "      <td>0</td>\n",
       "      <td>0</td>\n",
       "      <td>1</td>\n",
       "      <td>26.60</td>\n",
       "      <td>998.0</td>\n",
       "      <td>58.16</td>\n",
       "      <td>5.0</td>\n",
       "      <td>1.75</td>\n",
       "    </tr>\n",
       "    <tr>\n",
       "      <th>1</th>\n",
       "      <td>10</td>\n",
       "      <td>Hyundai Creta 1.6 CRDi SX Option</td>\n",
       "      <td>10</td>\n",
       "      <td>2015</td>\n",
       "      <td>41000</td>\n",
       "      <td>1</td>\n",
       "      <td>0</td>\n",
       "      <td>1</td>\n",
       "      <td>19.67</td>\n",
       "      <td>1582.0</td>\n",
       "      <td>126.20</td>\n",
       "      <td>5.0</td>\n",
       "      <td>12.50</td>\n",
       "    </tr>\n",
       "    <tr>\n",
       "      <th>2</th>\n",
       "      <td>9</td>\n",
       "      <td>Honda Jazz V</td>\n",
       "      <td>2</td>\n",
       "      <td>2011</td>\n",
       "      <td>46000</td>\n",
       "      <td>2</td>\n",
       "      <td>0</td>\n",
       "      <td>1</td>\n",
       "      <td>18.20</td>\n",
       "      <td>1199.0</td>\n",
       "      <td>88.70</td>\n",
       "      <td>5.0</td>\n",
       "      <td>4.50</td>\n",
       "    </tr>\n",
       "    <tr>\n",
       "      <th>3</th>\n",
       "      <td>17</td>\n",
       "      <td>Maruti Ertiga VDI</td>\n",
       "      <td>2</td>\n",
       "      <td>2012</td>\n",
       "      <td>87000</td>\n",
       "      <td>1</td>\n",
       "      <td>0</td>\n",
       "      <td>1</td>\n",
       "      <td>20.77</td>\n",
       "      <td>1248.0</td>\n",
       "      <td>88.76</td>\n",
       "      <td>7.0</td>\n",
       "      <td>6.00</td>\n",
       "    </tr>\n",
       "    <tr>\n",
       "      <th>4</th>\n",
       "      <td>1</td>\n",
       "      <td>Audi A4 New 2.0 TDI Multitronic</td>\n",
       "      <td>3</td>\n",
       "      <td>2013</td>\n",
       "      <td>40670</td>\n",
       "      <td>1</td>\n",
       "      <td>1</td>\n",
       "      <td>2</td>\n",
       "      <td>15.20</td>\n",
       "      <td>1968.0</td>\n",
       "      <td>140.80</td>\n",
       "      <td>5.0</td>\n",
       "      <td>17.74</td>\n",
       "    </tr>\n",
       "    <tr>\n",
       "      <th>...</th>\n",
       "      <td>...</td>\n",
       "      <td>...</td>\n",
       "      <td>...</td>\n",
       "      <td>...</td>\n",
       "      <td>...</td>\n",
       "      <td>...</td>\n",
       "      <td>...</td>\n",
       "      <td>...</td>\n",
       "      <td>...</td>\n",
       "      <td>...</td>\n",
       "      <td>...</td>\n",
       "      <td>...</td>\n",
       "      <td>...</td>\n",
       "    </tr>\n",
       "    <tr>\n",
       "      <th>6014</th>\n",
       "      <td>17</td>\n",
       "      <td>Maruti Swift VDI</td>\n",
       "      <td>4</td>\n",
       "      <td>2014</td>\n",
       "      <td>27365</td>\n",
       "      <td>1</td>\n",
       "      <td>0</td>\n",
       "      <td>1</td>\n",
       "      <td>28.40</td>\n",
       "      <td>1248.0</td>\n",
       "      <td>74.00</td>\n",
       "      <td>5.0</td>\n",
       "      <td>4.75</td>\n",
       "    </tr>\n",
       "    <tr>\n",
       "      <th>6015</th>\n",
       "      <td>10</td>\n",
       "      <td>Hyundai Xcent 1.1 CRDi S</td>\n",
       "      <td>6</td>\n",
       "      <td>2015</td>\n",
       "      <td>100000</td>\n",
       "      <td>1</td>\n",
       "      <td>0</td>\n",
       "      <td>1</td>\n",
       "      <td>24.40</td>\n",
       "      <td>1120.0</td>\n",
       "      <td>71.00</td>\n",
       "      <td>5.0</td>\n",
       "      <td>4.00</td>\n",
       "    </tr>\n",
       "    <tr>\n",
       "      <th>6016</th>\n",
       "      <td>16</td>\n",
       "      <td>Mahindra Xylo D4 BSIV</td>\n",
       "      <td>6</td>\n",
       "      <td>2012</td>\n",
       "      <td>55000</td>\n",
       "      <td>1</td>\n",
       "      <td>0</td>\n",
       "      <td>2</td>\n",
       "      <td>14.00</td>\n",
       "      <td>2498.0</td>\n",
       "      <td>112.00</td>\n",
       "      <td>8.0</td>\n",
       "      <td>2.90</td>\n",
       "    </tr>\n",
       "    <tr>\n",
       "      <th>6017</th>\n",
       "      <td>17</td>\n",
       "      <td>Maruti Wagon R VXI</td>\n",
       "      <td>8</td>\n",
       "      <td>2013</td>\n",
       "      <td>46000</td>\n",
       "      <td>2</td>\n",
       "      <td>0</td>\n",
       "      <td>1</td>\n",
       "      <td>18.90</td>\n",
       "      <td>998.0</td>\n",
       "      <td>67.10</td>\n",
       "      <td>5.0</td>\n",
       "      <td>2.65</td>\n",
       "    </tr>\n",
       "    <tr>\n",
       "      <th>6018</th>\n",
       "      <td>4</td>\n",
       "      <td>Chevrolet Beat Diesel</td>\n",
       "      <td>5</td>\n",
       "      <td>2011</td>\n",
       "      <td>47000</td>\n",
       "      <td>1</td>\n",
       "      <td>0</td>\n",
       "      <td>1</td>\n",
       "      <td>25.44</td>\n",
       "      <td>936.0</td>\n",
       "      <td>57.60</td>\n",
       "      <td>5.0</td>\n",
       "      <td>2.50</td>\n",
       "    </tr>\n",
       "  </tbody>\n",
       "</table>\n",
       "<p>5872 rows × 13 columns</p>\n",
       "</div>"
      ],
      "text/plain": [
       "      Brand                              Name  Location  Year  \\\n",
       "0        17            Maruti Wagon R LXI CNG         9  2010   \n",
       "1        10  Hyundai Creta 1.6 CRDi SX Option        10  2015   \n",
       "2         9                      Honda Jazz V         2  2011   \n",
       "3        17                 Maruti Ertiga VDI         2  2012   \n",
       "4         1   Audi A4 New 2.0 TDI Multitronic         3  2013   \n",
       "...     ...                               ...       ...   ...   \n",
       "6014     17                  Maruti Swift VDI         4  2014   \n",
       "6015     10          Hyundai Xcent 1.1 CRDi S         6  2015   \n",
       "6016     16             Mahindra Xylo D4 BSIV         6  2012   \n",
       "6017     17                Maruti Wagon R VXI         8  2013   \n",
       "6018      4             Chevrolet Beat Diesel         5  2011   \n",
       "\n",
       "      Kilometers_Driven  Fuel_Type  Transmission  Owner_Type  Mileage  Engine  \\\n",
       "0                 72000          0             0           1    26.60   998.0   \n",
       "1                 41000          1             0           1    19.67  1582.0   \n",
       "2                 46000          2             0           1    18.20  1199.0   \n",
       "3                 87000          1             0           1    20.77  1248.0   \n",
       "4                 40670          1             1           2    15.20  1968.0   \n",
       "...                 ...        ...           ...         ...      ...     ...   \n",
       "6014              27365          1             0           1    28.40  1248.0   \n",
       "6015             100000          1             0           1    24.40  1120.0   \n",
       "6016              55000          1             0           2    14.00  2498.0   \n",
       "6017              46000          2             0           1    18.90   998.0   \n",
       "6018              47000          1             0           1    25.44   936.0   \n",
       "\n",
       "       Power  Seats  Price  \n",
       "0      58.16    5.0   1.75  \n",
       "1     126.20    5.0  12.50  \n",
       "2      88.70    5.0   4.50  \n",
       "3      88.76    7.0   6.00  \n",
       "4     140.80    5.0  17.74  \n",
       "...      ...    ...    ...  \n",
       "6014   74.00    5.0   4.75  \n",
       "6015   71.00    5.0   4.00  \n",
       "6016  112.00    8.0   2.90  \n",
       "6017   67.10    5.0   2.65  \n",
       "6018   57.60    5.0   2.50  \n",
       "\n",
       "[5872 rows x 13 columns]"
      ]
     },
     "execution_count": 785,
     "metadata": {},
     "output_type": "execute_result"
    }
   ],
   "source": [
    "df['Location'].unique()\n",
    "from sklearn import preprocessing\n",
    "le = preprocessing.LabelEncoder()\n",
    "df[['Brand','Location']]=df[['Brand','Location']].apply(le.fit_transform)\n",
    "df"
   ]
  },
  {
   "cell_type": "markdown",
   "metadata": {},
   "source": [
    "#### Split Train and Test data"
   ]
  },
  {
   "cell_type": "code",
   "execution_count": 786,
   "metadata": {},
   "outputs": [
    {
     "name": "stdout",
     "output_type": "stream",
     "text": [
      "(4697, 10) (4697,)\n",
      "(1175, 10) (1175,)\n"
     ]
    }
   ],
   "source": [
    "from sklearn import datasets, linear_model\n",
    "from sklearn.model_selection import train_test_split\n",
    "from matplotlib import pyplot as plt\n",
    "\n",
    "y= df.Price\n",
    "X= df[['Brand','Year', 'Kilometers_Driven', 'Fuel_Type', 'Transmission', 'Owner_Type', 'Mileage', 'Engine', 'Power', 'Seats']]\n",
    "\n",
    "X_train, X_test, y_train, y_test = train_test_split(X, y, test_size=0.2, random_state=0)\n",
    "\n",
    "print (X_train.shape, y_train.shape)\n",
    "print (X_test.shape, y_test.shape)"
   ]
  },
  {
   "cell_type": "markdown",
   "metadata": {},
   "source": [
    "#### Standard Scaler:\n",
    "It assumes that your data is normally distributed within each feature. "
   ]
  },
  {
   "cell_type": "code",
   "execution_count": 787,
   "metadata": {},
   "outputs": [],
   "source": [
    "# Feature Scaling\n",
    "from sklearn.preprocessing import StandardScaler\n",
    "\n",
    "sc = StandardScaler()\n",
    "X_train= sc.fit_transform(X_train)\n",
    "X_test= sc.transform(X_test)"
   ]
  },
  {
   "cell_type": "markdown",
   "metadata": {},
   "source": [
    "#### MinMaxScaler:\n",
    "Transform features by scaling each feature to a given range. \n",
    "This estimator scales and translates each feature individually such that it isin the given range on the training set,\n",
    "e.g. between zero and one."
   ]
  },
  {
   "cell_type": "code",
   "execution_count": 788,
   "metadata": {},
   "outputs": [
    {
     "data": {
      "text/plain": [
       "array([[8.21428571e-01, 8.57142857e-01, 8.26406356e-03, ...,\n",
       "        3.25641980e-02, 3.63255991e-02, 3.75000000e-01],\n",
       "       [8.92857143e-01, 9.04761905e-01, 1.54202518e-02, ...,\n",
       "        1.43654633e-01, 6.61848612e-02, 3.75000000e-01],\n",
       "       [3.57142857e-01, 9.04761905e-01, 1.43526853e-03, ...,\n",
       "        2.55861556e-01, 2.20083682e-01, 3.75000000e-01],\n",
       "       ...,\n",
       "       [2.85714286e-01, 4.28571429e-01, 1.38202097e-02, ...,\n",
       "        3.48902121e-01, 2.06922784e-01, 6.25000000e-01],\n",
       "       [6.07142857e-01, 9.04761905e-01, 4.03533693e-03, ...,\n",
       "        6.95943431e-02, 6.24572081e-02, 3.75000000e-01],\n",
       "       [6.07142857e-01, 8.57142857e-01, 7.12172582e-04, ...,\n",
       "        6.95943431e-02, 6.24572081e-02, 3.75000000e-01]])"
      ]
     },
     "execution_count": 788,
     "metadata": {},
     "output_type": "execute_result"
    }
   ],
   "source": [
    "from sklearn.preprocessing import MinMaxScaler\n",
    "sc = MinMaxScaler()   \n",
    "X_train= sc.fit_transform(X_train)\n",
    "X_test= sc.transform(X_test)\n",
    "X_train"
   ]
  },
  {
   "cell_type": "markdown",
   "metadata": {},
   "source": [
    "## Random Forest"
   ]
  },
  {
   "cell_type": "code",
   "execution_count": 789,
   "metadata": {},
   "outputs": [],
   "source": [
    "from sklearn.ensemble import RandomForestRegressor\n",
    "\n",
    "regressor = RandomForestRegressor(n_estimators=20, random_state=0)\n",
    "regressor.fit(X_train, y_train)\n",
    "y_pred = regressor.predict(X_test)"
   ]
  },
  {
   "cell_type": "code",
   "execution_count": 790,
   "metadata": {},
   "outputs": [
    {
     "name": "stdout",
     "output_type": "stream",
     "text": [
      "Mean Absolute Error: 1.66\n",
      "Mean Squared Error: 13.18\n",
      "Root Mean Squared Error: 3.63\n"
     ]
    }
   ],
   "source": [
    "from sklearn import metrics\n",
    "from sklearn.metrics import mean_squared_error as MSE\n",
    "\n",
    "print('Mean Absolute Error:', round(metrics.mean_absolute_error(y_test, y_pred),2))\n",
    "print('Mean Squared Error:', round(metrics.mean_squared_error(y_test, y_pred),2))\n",
    "print('Root Mean Squared Error:', round(np.sqrt(metrics.mean_squared_error(y_test, y_pred)),2))"
   ]
  },
  {
   "cell_type": "code",
   "execution_count": 791,
   "metadata": {},
   "outputs": [
    {
     "name": "stdout",
     "output_type": "stream",
     "text": [
      "82.5378129319886\n"
     ]
    }
   ],
   "source": [
    "errors = abs(y_pred - y_test)\n",
    "mape = np.mean(100 * (errors / y_test))\n",
    "accuracy=100-mape\n",
    "print(accuracy)"
   ]
  },
  {
   "cell_type": "code",
   "execution_count": 792,
   "metadata": {},
   "outputs": [],
   "source": [
    "rf= regressor\n",
    "features=df[['Brand','Year', 'Kilometers_Driven', 'Fuel_Type', 'Transmission', 'Owner_Type', 'Mileage', 'Engine', 'Power', 'Seats']]\n",
    "\n",
    "# Saving feature names for later use\n",
    "feature_list = list(features.columns)\n",
    "# Convert to numpy array\n",
    "features = np.array(features)"
   ]
  },
  {
   "cell_type": "code",
   "execution_count": 793,
   "metadata": {},
   "outputs": [
    {
     "name": "stdout",
     "output_type": "stream",
     "text": [
      "Variable: Power                Importance: 0.67\n",
      "Variable: Year                 Importance: 0.17\n",
      "Variable: Kilometers_Driven    Importance: 0.05\n",
      "Variable: Engine               Importance: 0.04\n",
      "Variable: Mileage              Importance: 0.03\n",
      "Variable: Brand                Importance: 0.02\n",
      "Variable: Transmission         Importance: 0.01\n",
      "Variable: Seats                Importance: 0.01\n",
      "Variable: Fuel_Type            Importance: 0.0\n",
      "Variable: Owner_Type           Importance: 0.0\n"
     ]
    }
   ],
   "source": [
    "importances = list(rf.feature_importances_)\n",
    "\n",
    "# List of tuples with variable and importance\n",
    "feature_importances = [(feature, round(importance, 2)) for feature, importance in zip(feature_list, importances)]\n",
    "\n",
    "# Sort the feature importances by most important first\n",
    "feature_importances = sorted(feature_importances, key = lambda x: x[1], reverse = True)\n",
    "\n",
    "# Print out the feature and importances \n",
    "[print('Variable: {:20} Importance: {}'.format(*pair)) for pair in feature_importances];"
   ]
  },
  {
   "cell_type": "code",
   "execution_count": 794,
   "metadata": {},
   "outputs": [
    {
     "data": {
      "image/png": "[encoded data removed]",
      "text/plain": [
       "<Figure size 432x288 with 1 Axes>"
      ]
     },
     "metadata": {},
     "output_type": "display_data"
    }
   ],
   "source": [
    "import matplotlib.pyplot as plt\n",
    "%matplotlib inline\n",
    "# Set the style\n",
    "plt.style.use('fivethirtyeight')\n",
    "# list of x locations for plotting\n",
    "x_values = list(range(len(importances)))\n",
    "# Make a bar chart\n",
    "plt.bar(x_values, importances, orientation = 'vertical')\n",
    "# Tick labels for x axis\n",
    "plt.xticks(x_values, feature_list, rotation='vertical')\n",
    "# Axis labels and title\n",
    "plt.ylabel('Importance'); plt.xlabel('Variable'); plt.title('Variable Importances');"
   ]
  },
  {
   "cell_type": "markdown",
   "metadata": {},
   "source": [
    "# Gradient Boosting Regressor"
   ]
  },
  {
   "cell_type": "code",
   "execution_count": 795,
   "metadata": {},
   "outputs": [],
   "source": [
    "from sklearn.ensemble import GradientBoostingRegressor"
   ]
  },
  {
   "cell_type": "code",
   "execution_count": 796,
   "metadata": {},
   "outputs": [
    {
     "name": "stdout",
     "output_type": "stream",
     "text": [
      "0.9340081021369759\n"
     ]
    }
   ],
   "source": [
    "\n",
    "learning_rate = 0.1\n",
    "#n_estimators = list(range(700,800))\n",
    "#for n in n_estimators:\n",
    "gbr = GradientBoostingRegressor(learning_rate=0.1, n_estimators=500)\n",
    "gbr.fit(X_train, y_train)\n",
    "#gbr.fit(X_train, y_train)\n",
    "print(gbr.score(X_test, y_test))\n"
   ]
  },
  {
   "cell_type": "code",
   "execution_count": 797,
   "metadata": {},
   "outputs": [],
   "source": [
    "rf= gbr\n",
    "features=df[['Brand','Year', 'Kilometers_Driven', 'Fuel_Type', 'Transmission', 'Owner_Type', 'Mileage', 'Engine', 'Power', 'Seats']]\n",
    "\n",
    "# Saving feature names for later use\n",
    "feature_list = list(features.columns)\n",
    "# Convert to numpy array\n",
    "features = np.array(features)"
   ]
  },
  {
   "cell_type": "code",
   "execution_count": 798,
   "metadata": {},
   "outputs": [
    {
     "name": "stdout",
     "output_type": "stream",
     "text": [
      "Variable: Power                Importance: 0.68\n",
      "Variable: Year                 Importance: 0.16\n",
      "Variable: Kilometers_Driven    Importance: 0.05\n",
      "Variable: Engine               Importance: 0.04\n",
      "Variable: Brand                Importance: 0.02\n",
      "Variable: Transmission         Importance: 0.02\n",
      "Variable: Mileage              Importance: 0.02\n",
      "Variable: Fuel_Type            Importance: 0.01\n",
      "Variable: Owner_Type           Importance: 0.0\n",
      "Variable: Seats                Importance: 0.0\n"
     ]
    }
   ],
   "source": [
    "importances = list(rf.feature_importances_)\n",
    "\n",
    "# List of tuples with variable and importance\n",
    "feature_importances = [(feature, round(importance, 2)) for feature, importance in zip(feature_list, importances)]\n",
    "\n",
    "# Sort the feature importances by most important first\n",
    "feature_importances = sorted(feature_importances, key = lambda x: x[1], reverse = True)\n",
    "\n",
    "# Print out the feature and importances \n",
    "[print('Variable: {:20} Importance: {}'.format(*pair)) for pair in feature_importances];"
   ]
  },
  {
   "cell_type": "code",
   "execution_count": 799,
   "metadata": {},
   "outputs": [
    {
     "data": {
      "image/png": "[encoded data removed]",
      "text/plain": [
       "<Figure size 432x288 with 1 Axes>"
      ]
     },
     "metadata": {},
     "output_type": "display_data"
    }
   ],
   "source": [
    "import matplotlib.pyplot as plt\n",
    "%matplotlib inline\n",
    "# Set the style\n",
    "plt.style.use('fivethirtyeight')\n",
    "# list of x locations for plotting\n",
    "x_values = list(range(len(importances)))\n",
    "# Make a bar chart\n",
    "plt.bar(x_values, importances, orientation = 'vertical')\n",
    "# Tick labels for x axis\n",
    "plt.xticks(x_values, feature_list, rotation='vertical')\n",
    "# Axis labels and title\n",
    "plt.ylabel('Importance'); plt.xlabel('Variable'); plt.title('Variable Importances');"
   ]
  },
  {
   "cell_type": "markdown",
   "metadata": {},
   "source": [
    "# Ridge Regression"
   ]
  },
  {
   "cell_type": "code",
   "execution_count": 800,
   "metadata": {},
   "outputs": [],
   "source": [
    "from sklearn import model_selection\n",
    "from sklearn.linear_model import LinearRegression\n",
    "from sklearn.linear_model import Ridge\n",
    "from sklearn.linear_model import Lasso\n",
    "from sklearn.linear_model import ElasticNet\n",
    "from sklearn.neighbors import KNeighborsRegressor\n",
    "from sklearn.tree import DecisionTreeRegressor\n",
    "from sklearn.svm import SVR\n",
    "from sklearn.ensemble import RandomForestRegressor\n",
    "from sklearn.metrics import r2_score\n",
    "from sklearn.model_selection import train_test_split\n",
    "from sklearn.metrics import mean_squared_error\n",
    "from math import sqrt"
   ]
  },
  {
   "cell_type": "markdown",
   "metadata": {},
   "source": [
    "First, linear regression will be applied\n",
    "\n",
    "## Linear Regression"
   ]
  },
  {
   "cell_type": "code",
   "execution_count": 801,
   "metadata": {},
   "outputs": [
    {
     "name": "stdout",
     "output_type": "stream",
     "text": [
      "-------------Linear Regression-------------\n",
      "RMSE = 6.27\n",
      "Accuracy =  71.82271959776713 %\n",
      "-------------Ridge Regression--------------\n",
      "RMSE = 6.26\n"
     ]
    }
   ],
   "source": [
    "from sklearn.linear_model import LinearRegression, Ridge\n",
    "from sklearn.metrics import mean_squared_error as mse\n",
    "lr = LinearRegression()\n",
    "lr.fit(X_train, y_train)\n",
    "y_pred_lr = lr.predict(X_test)\n",
    "rmse_lr = np.sqrt(mse(y_test, y_pred_lr))\n",
    "rr = Ridge()\n",
    "rr.fit(X_train, y_train)\n",
    "y_pred_rr = rr.predict(X_test)\n",
    "rmse_rr = np.sqrt(mse(y_test, y_pred_rr))\n",
    "print('-------------Linear Regression-------------')\n",
    "print(\"RMSE = {:.2f}\".format((rmse_lr)))\n",
    "accuracy = lr.score(X_test,y_test)\n",
    "print('Accuracy = ', accuracy*100,'%')\n",
    "print('-------------Ridge Regression--------------')\n",
    "print(\"RMSE = {:.2f}\".format((rmse_rr)))"
   ]
  },
  {
   "cell_type": "code",
   "execution_count": 802,
   "metadata": {},
   "outputs": [
    {
     "name": "stdout",
     "output_type": "stream",
     "text": [
      "-2147.5179838148974\n",
      "[-9.00725076e-03  1.07009553e+00  1.77599136e-06 -2.44255514e+00\n",
      "  2.56311919e+00 -3.24356039e-02 -2.21692611e-01  9.38599246e-04\n",
      "  1.25322483e-01 -1.18605201e+00]\n"
     ]
    }
   ],
   "source": [
    "regressor = LinearRegression()  \n",
    "#y= df.Price\n",
    "#X= df[['Brand','Year', 'Kilometers_Driven', 'Fuel_Type', 'Transmission', 'Owner_Type', 'Mileage', 'Engine', 'Power', 'Seats']]\n",
    "\n",
    "X_train, X_test, y_train, y_test = train_test_split(X, y, test_size=0.2, random_state=42)\n",
    "\n",
    "regressor.fit(X_train, y_train) #training the algorithm\n",
    "\n",
    "#To retrieve the intercept:\n",
    "print(regressor.intercept_)#For retrieving the slope:\n",
    "print(regressor.coef_)"
   ]
  },
  {
   "cell_type": "code",
   "execution_count": 803,
   "metadata": {},
   "outputs": [
    {
     "data": {
      "text/html": [
       "<div>\n",
       "<style scoped>\n",
       "    .dataframe tbody tr th:only-of-type {\n",
       "        vertical-align: middle;\n",
       "    }\n",
       "\n",
       "    .dataframe tbody tr th {\n",
       "        vertical-align: top;\n",
       "    }\n",
       "\n",
       "    .dataframe thead th {\n",
       "        text-align: right;\n",
       "    }\n",
       "</style>\n",
       "<table border=\"1\" class=\"dataframe\">\n",
       "  <thead>\n",
       "    <tr style=\"text-align: right;\">\n",
       "      <th></th>\n",
       "      <th>Coefficient</th>\n",
       "    </tr>\n",
       "  </thead>\n",
       "  <tbody>\n",
       "    <tr>\n",
       "      <th>Brand</th>\n",
       "      <td>-0.009007</td>\n",
       "    </tr>\n",
       "    <tr>\n",
       "      <th>Year</th>\n",
       "      <td>1.070096</td>\n",
       "    </tr>\n",
       "    <tr>\n",
       "      <th>Kilometers_Driven</th>\n",
       "      <td>0.000002</td>\n",
       "    </tr>\n",
       "    <tr>\n",
       "      <th>Fuel_Type</th>\n",
       "      <td>-2.442555</td>\n",
       "    </tr>\n",
       "    <tr>\n",
       "      <th>Transmission</th>\n",
       "      <td>2.563119</td>\n",
       "    </tr>\n",
       "    <tr>\n",
       "      <th>Owner_Type</th>\n",
       "      <td>-0.032436</td>\n",
       "    </tr>\n",
       "    <tr>\n",
       "      <th>Mileage</th>\n",
       "      <td>-0.221693</td>\n",
       "    </tr>\n",
       "    <tr>\n",
       "      <th>Engine</th>\n",
       "      <td>0.000939</td>\n",
       "    </tr>\n",
       "    <tr>\n",
       "      <th>Power</th>\n",
       "      <td>0.125322</td>\n",
       "    </tr>\n",
       "    <tr>\n",
       "      <th>Seats</th>\n",
       "      <td>-1.186052</td>\n",
       "    </tr>\n",
       "  </tbody>\n",
       "</table>\n",
       "</div>"
      ],
      "text/plain": [
       "                   Coefficient\n",
       "Brand                -0.009007\n",
       "Year                  1.070096\n",
       "Kilometers_Driven     0.000002\n",
       "Fuel_Type            -2.442555\n",
       "Transmission          2.563119\n",
       "Owner_Type           -0.032436\n",
       "Mileage              -0.221693\n",
       "Engine                0.000939\n",
       "Power                 0.125322\n",
       "Seats                -1.186052"
      ]
     },
     "execution_count": 803,
     "metadata": {},
     "output_type": "execute_result"
    }
   ],
   "source": [
    "import numpy as np\n",
    "coeff_df = pd.DataFrame(regressor.coef_, X.columns, columns=['Coefficient'])  \n",
    "coeff_df"
   ]
  },
  {
   "cell_type": "code",
   "execution_count": 804,
   "metadata": {},
   "outputs": [
    {
     "name": "stdout",
     "output_type": "stream",
     "text": [
      "Mean Absolute Error: 3.82\n",
      "Mean Squared Error: 39.3\n",
      "Root Mean Squared Error: 6.27\n",
      "-68.01226402036062\n"
     ]
    }
   ],
   "source": [
    "OLS_pred= regressor.predict(X_train)\n",
    "\n",
    "from sklearn import metrics\n",
    "print('Mean Absolute Error:', round(metrics.mean_absolute_error(y_train, OLS_pred),2))\n",
    "print('Mean Squared Error:', round(metrics.mean_squared_error(y_train, OLS_pred),2))\n",
    "print('Root Mean Squared Error:', round(np.sqrt(metrics.mean_squared_error(y_train, OLS_pred)),2))\n",
    "\n",
    "errors = abs(y_pred - y_test)\n",
    "mape = np.mean(100 * (errors / y_test))\n",
    "accuracy=100-mape\n",
    "print(accuracy)"
   ]
  },
  {
   "cell_type": "code",
   "execution_count": 805,
   "metadata": {},
   "outputs": [
    {
     "data": {
      "text/html": [
       "<div>\n",
       "<style scoped>\n",
       "    .dataframe tbody tr th:only-of-type {\n",
       "        vertical-align: middle;\n",
       "    }\n",
       "\n",
       "    .dataframe tbody tr th {\n",
       "        vertical-align: top;\n",
       "    }\n",
       "\n",
       "    .dataframe thead th {\n",
       "        text-align: right;\n",
       "    }\n",
       "</style>\n",
       "<table border=\"1\" class=\"dataframe\">\n",
       "  <thead>\n",
       "    <tr style=\"text-align: right;\">\n",
       "      <th></th>\n",
       "      <th>Actual</th>\n",
       "      <th>Predicted</th>\n",
       "    </tr>\n",
       "  </thead>\n",
       "  <tbody>\n",
       "    <tr>\n",
       "      <th>4204</th>\n",
       "      <td>31.00</td>\n",
       "      <td>29.11</td>\n",
       "    </tr>\n",
       "    <tr>\n",
       "      <th>605</th>\n",
       "      <td>12.50</td>\n",
       "      <td>13.98</td>\n",
       "    </tr>\n",
       "    <tr>\n",
       "      <th>205</th>\n",
       "      <td>19.90</td>\n",
       "      <td>23.19</td>\n",
       "    </tr>\n",
       "    <tr>\n",
       "      <th>456</th>\n",
       "      <td>8.92</td>\n",
       "      <td>10.10</td>\n",
       "    </tr>\n",
       "    <tr>\n",
       "      <th>1303</th>\n",
       "      <td>24.68</td>\n",
       "      <td>20.43</td>\n",
       "    </tr>\n",
       "    <tr>\n",
       "      <th>5522</th>\n",
       "      <td>6.60</td>\n",
       "      <td>3.42</td>\n",
       "    </tr>\n",
       "    <tr>\n",
       "      <th>2531</th>\n",
       "      <td>4.05</td>\n",
       "      <td>4.19</td>\n",
       "    </tr>\n",
       "    <tr>\n",
       "      <th>3205</th>\n",
       "      <td>9.75</td>\n",
       "      <td>12.05</td>\n",
       "    </tr>\n",
       "    <tr>\n",
       "      <th>937</th>\n",
       "      <td>2.10</td>\n",
       "      <td>0.13</td>\n",
       "    </tr>\n",
       "    <tr>\n",
       "      <th>3724</th>\n",
       "      <td>13.75</td>\n",
       "      <td>25.38</td>\n",
       "    </tr>\n",
       "    <tr>\n",
       "      <th>2586</th>\n",
       "      <td>20.04</td>\n",
       "      <td>21.77</td>\n",
       "    </tr>\n",
       "    <tr>\n",
       "      <th>1467</th>\n",
       "      <td>6.85</td>\n",
       "      <td>5.21</td>\n",
       "    </tr>\n",
       "    <tr>\n",
       "      <th>3479</th>\n",
       "      <td>3.50</td>\n",
       "      <td>10.89</td>\n",
       "    </tr>\n",
       "    <tr>\n",
       "      <th>1715</th>\n",
       "      <td>7.50</td>\n",
       "      <td>17.30</td>\n",
       "    </tr>\n",
       "    <tr>\n",
       "      <th>4689</th>\n",
       "      <td>28.85</td>\n",
       "      <td>21.28</td>\n",
       "    </tr>\n",
       "    <tr>\n",
       "      <th>2413</th>\n",
       "      <td>5.92</td>\n",
       "      <td>7.47</td>\n",
       "    </tr>\n",
       "    <tr>\n",
       "      <th>3017</th>\n",
       "      <td>39.75</td>\n",
       "      <td>25.84</td>\n",
       "    </tr>\n",
       "    <tr>\n",
       "      <th>3304</th>\n",
       "      <td>3.50</td>\n",
       "      <td>6.65</td>\n",
       "    </tr>\n",
       "    <tr>\n",
       "      <th>832</th>\n",
       "      <td>2.75</td>\n",
       "      <td>1.49</td>\n",
       "    </tr>\n",
       "    <tr>\n",
       "      <th>2477</th>\n",
       "      <td>31.80</td>\n",
       "      <td>36.35</td>\n",
       "    </tr>\n",
       "    <tr>\n",
       "      <th>4209</th>\n",
       "      <td>9.47</td>\n",
       "      <td>12.23</td>\n",
       "    </tr>\n",
       "    <tr>\n",
       "      <th>4165</th>\n",
       "      <td>4.50</td>\n",
       "      <td>5.74</td>\n",
       "    </tr>\n",
       "    <tr>\n",
       "      <th>5722</th>\n",
       "      <td>4.40</td>\n",
       "      <td>2.99</td>\n",
       "    </tr>\n",
       "    <tr>\n",
       "      <th>5374</th>\n",
       "      <td>23.00</td>\n",
       "      <td>23.11</td>\n",
       "    </tr>\n",
       "    <tr>\n",
       "      <th>1201</th>\n",
       "      <td>3.35</td>\n",
       "      <td>9.44</td>\n",
       "    </tr>\n",
       "  </tbody>\n",
       "</table>\n",
       "</div>"
      ],
      "text/plain": [
       "      Actual  Predicted\n",
       "4204   31.00      29.11\n",
       "605    12.50      13.98\n",
       "205    19.90      23.19\n",
       "456     8.92      10.10\n",
       "1303   24.68      20.43\n",
       "5522    6.60       3.42\n",
       "2531    4.05       4.19\n",
       "3205    9.75      12.05\n",
       "937     2.10       0.13\n",
       "3724   13.75      25.38\n",
       "2586   20.04      21.77\n",
       "1467    6.85       5.21\n",
       "3479    3.50      10.89\n",
       "1715    7.50      17.30\n",
       "4689   28.85      21.28\n",
       "2413    5.92       7.47\n",
       "3017   39.75      25.84\n",
       "3304    3.50       6.65\n",
       "832     2.75       1.49\n",
       "2477   31.80      36.35\n",
       "4209    9.47      12.23\n",
       "4165    4.50       5.74\n",
       "5722    4.40       2.99\n",
       "5374   23.00      23.11\n",
       "1201    3.35       9.44"
      ]
     },
     "execution_count": 805,
     "metadata": {},
     "output_type": "execute_result"
    }
   ],
   "source": [
    "y_pred = regressor.predict(X_test)\n",
    "\n",
    "df = pd.DataFrame({'Actual': y_test, 'Predicted': y_pred})\n",
    "df1 = df.head(25)\n",
    "round(df1,2)"
   ]
  },
  {
   "cell_type": "code",
   "execution_count": 806,
   "metadata": {},
   "outputs": [
    {
     "data": {
      "image/png": "[encoded data removed]",
      "text/plain": [
       "<Figure size 720x576 with 1 Axes>"
      ]
     },
     "metadata": {},
     "output_type": "display_data"
    }
   ],
   "source": [
    "df1.plot(kind='bar',figsize=(10,8))\n",
    "plt.grid(which='major', linestyle='-', linewidth='0.5', color='green')\n",
    "plt.grid(which='minor', linestyle=':', linewidth='0.5', color='black')\n",
    "plt.show()\n"
   ]
  },
  {
   "cell_type": "markdown",
   "metadata": {},
   "source": [
    "Evaluate OLS prediction on test data"
   ]
  },
  {
   "cell_type": "code",
   "execution_count": 807,
   "metadata": {},
   "outputs": [
    {
     "name": "stdout",
     "output_type": "stream",
     "text": [
      "Mean Absolute Error: 3.69\n",
      "Mean Squared Error: 34.28\n",
      "Root Mean Squared Error: 5.85\n",
      "21.692288407026027\n"
     ]
    }
   ],
   "source": [
    "y_pred = regressor.predict(X_test)\n",
    "\n",
    "print('Mean Absolute Error:', round(metrics.mean_absolute_error(y_test, y_pred),2))\n",
    "print('Mean Squared Error:', round(metrics.mean_squared_error(y_test, y_pred),2))\n",
    "print('Root Mean Squared Error:', round(np.sqrt(metrics.mean_squared_error(y_test, y_pred)),2))\n",
    "\n",
    "errors = abs(y_pred - y_test)\n",
    "mape = np.mean(100 * (errors / y_test))\n",
    "accuracy=100-mape\n",
    "print(accuracy)"
   ]
  },
  {
   "cell_type": "markdown",
   "metadata": {},
   "source": [
    "# Ridge Regression"
   ]
  },
  {
   "cell_type": "code",
   "execution_count": 808,
   "metadata": {},
   "outputs": [],
   "source": [
    "alphas = 10**np.linspace(10,-2,100)*0.5"
   ]
  },
  {
   "cell_type": "code",
   "execution_count": 809,
   "metadata": {},
   "outputs": [
    {
     "data": {
      "text/plain": [
       "Text(0,0.5,'weights')"
      ]
     },
     "execution_count": 809,
     "metadata": {},
     "output_type": "execute_result"
    },
    {
     "data": {
      "image/png": "[encoded data removed]",
      "text/plain": [
       "<Figure size 432x288 with 1 Axes>"
      ]
     },
     "metadata": {},
     "output_type": "display_data"
    }
   ],
   "source": [
    "from mpl_toolkits.mplot3d import Axes3D\n",
    "from mpl_toolkits import mplot3d\n",
    "from sklearn.preprocessing import scale \n",
    "\n",
    "%matplotlib inline\n",
    "plt.style.use('seaborn-white')\n",
    "\n",
    "import matplotlib.pyplot as plt\n",
    "import numpy as np\n",
    "\n",
    "from sklearn.datasets import make_regression\n",
    "from sklearn.linear_model import Ridge\n",
    "from sklearn.metrics import mean_squared_error\n",
    "\n",
    "clf= Ridge()\n",
    "coefs = []\n",
    "\n",
    "for a in alphas:\n",
    "    clf.set_params(alpha=a)\n",
    "    clf.fit(scale(X_train), y_train)\n",
    "    coefs.append(clf.coef_)\n",
    "    \n",
    "ax = plt.gca()\n",
    "ax.plot(alphas*2, coefs)\n",
    "ax.set_xscale('log')\n",
    "plt.axis('tight')\n",
    "plt.xlabel('alpha')\n",
    "plt.ylabel('weights')"
   ]
  },
  {
   "cell_type": "code",
   "execution_count": 810,
   "metadata": {},
   "outputs": [
    {
     "data": {
      "text/plain": [
       "0.14240179342179024"
      ]
     },
     "execution_count": 810,
     "metadata": {},
     "output_type": "execute_result"
    }
   ],
   "source": [
    "from sklearn.preprocessing import scale \n",
    "from sklearn.model_selection import train_test_split\n",
    "from sklearn.linear_model import Ridge, RidgeCV, Lasso, LassoCV\n",
    "from sklearn.metrics import mean_squared_error\n",
    "\n",
    "ridgecv = RidgeCV(alphas = alphas, scoring = 'neg_mean_squared_error', normalize = True)\n",
    "ridgecv.fit(X_train, y_train)\n",
    "ridgecv.alpha_"
   ]
  },
  {
   "cell_type": "code",
   "execution_count": 811,
   "metadata": {},
   "outputs": [
    {
     "name": "stdout",
     "output_type": "stream",
     "text": [
      "Brand               -4.465285e-02\n",
      "Year                 9.372636e-01\n",
      "Kilometers_Driven    9.767392e-07\n",
      "Fuel_Type           -2.020887e+00\n",
      "Transmission         3.585636e+00\n",
      "Owner_Type          -3.869398e-01\n",
      "Mileage             -1.710584e-01\n",
      "Engine               3.585755e-03\n",
      "Power                8.477662e-02\n",
      "Seats               -1.238018e+00\n",
      "dtype: float64\n"
     ]
    }
   ],
   "source": [
    "# Fit a ridge regression on the training data\n",
    "pred2 = ridgecv.predict(X_test)\n",
    "# Use this model to predict the test data\n",
    "print(pd.Series(ridgecv.coef_, index = X.columns))"
   ]
  },
  {
   "cell_type": "code",
   "execution_count": 812,
   "metadata": {},
   "outputs": [
    {
     "name": "stdout",
     "output_type": "stream",
     "text": [
      "Mean Absolute Error: 3.54\n",
      "Mean Squared Error: 34.4\n",
      "Root Mean Squared Error: 5.87\n",
      "21.692288407026027\n"
     ]
    }
   ],
   "source": [
    "from sklearn import metrics\n",
    "print('Mean Absolute Error:', round(metrics.mean_absolute_error(y_test, pred2),2))\n",
    "print('Mean Squared Error:', round(metrics.mean_squared_error(y_test, pred2),2))\n",
    "print('Root Mean Squared Error:', round(np.sqrt(metrics.mean_squared_error(y_test, pred2)),2))\n",
    "\n",
    "errors = abs(y_pred - y_test)\n",
    "mape = np.mean(100 * (errors / y_test))\n",
    "accuracy=100-mape\n",
    "print(accuracy)"
   ]
  },
  {
   "cell_type": "code",
   "execution_count": 813,
   "metadata": {},
   "outputs": [
    {
     "data": {
      "text/plain": [
       "Text(0.5,1,'Feature importance using Ridge Model')"
      ]
     },
     "execution_count": 813,
     "metadata": {},
     "output_type": "execute_result"
    },
    {
     "data": {
      "image/png": "[encoded data removed]",
      "text/plain": [
       "<Figure size 504x504 with 1 Axes>"
      ]
     },
     "metadata": {},
     "output_type": "display_data"
    }
   ],
   "source": [
    "coef_ridge= pd.Series(ridgecv.coef_, index = X.columns)\n",
    "imp_coef = coef_ridge.sort_values()\n",
    "import matplotlib\n",
    "matplotlib.rcParams['figure.figsize'] = (7.0, 7.0)\n",
    "imp_coef.plot(kind = \"barh\")\n",
    "plt.title(\"Feature importance using Ridge Model\")"
   ]
  },
  {
   "cell_type": "markdown",
   "metadata": {},
   "source": [
    "# Lasso"
   ]
  },
  {
   "cell_type": "code",
   "execution_count": 814,
   "metadata": {},
   "outputs": [
    {
     "name": "stderr",
     "output_type": "stream",
     "text": [
      "No handles with labels found to put in legend.\n"
     ]
    },
    {
     "data": {
      "text/plain": [
       "<matplotlib.legend.Legend at 0x19b9f40a2e8>"
      ]
     },
     "execution_count": 814,
     "metadata": {},
     "output_type": "execute_result"
    },
    {
     "data": {
      "image/png": "[encoded data removed]",
      "text/plain": [
       "<Figure size 504x504 with 1 Axes>"
      ]
     },
     "metadata": {},
     "output_type": "display_data"
    }
   ],
   "source": [
    "from sklearn.linear_model import Lasso\n",
    "\n",
    "lasso = Lasso(max_iter = 1000, normalize = True)\n",
    "coefs = []\n",
    "alphas= np.logspace(-1,2,100)\n",
    "for a in alphas:\n",
    "    lasso.set_params(alpha=a)\n",
    "    lasso.fit(scale(X_train), y_train)\n",
    "    coefs.append(lasso.coef_)\n",
    "    \n",
    "ax = plt.gca()\n",
    "ax.plot(alphas*2, coefs)\n",
    "ax.set_xscale('log')\n",
    "plt.axis('tight')\n",
    "plt.xlabel('lambda')\n",
    "plt.ylabel('weights')\n",
    "plt.title('Lasso Paths')\n",
    "plt.legend()"
   ]
  },
  {
   "cell_type": "code",
   "execution_count": 815,
   "metadata": {},
   "outputs": [
    {
     "name": "stdout",
     "output_type": "stream",
     "text": [
      "Best alpha using built-in LassoCV: 0.011328\n",
      "Best score using built-in LassoCV: 0.684950\n",
      "Root Mean Squared Error: 5.9\n"
     ]
    }
   ],
   "source": [
    "from sklearn.linear_model import LassoCV\n",
    "from sklearn.metrics import mean_squared_error\n",
    "from sklearn import metrics\n",
    "\n",
    "reg = LassoCV( alphas = None, cv = 10, max_iter = 100000, normalize = True)\n",
    "reg.fit(X_train, y_train)\n",
    "print(\"Best alpha using built-in LassoCV: %f\" % reg.alpha_)\n",
    "print(\"Best score using built-in LassoCV: %f\" %reg.score(X_train,y_train))\n",
    "coef = pd.Series(reg.coef_, index = X.columns)\n",
    "print('Root Mean Squared Error:', round(np.sqrt(metrics.mean_squared_error(y_test, reg.predict(X_test))),2))"
   ]
  },
  {
   "cell_type": "code",
   "execution_count": 816,
   "metadata": {},
   "outputs": [
    {
     "name": "stdout",
     "output_type": "stream",
     "text": [
      "Mean Absolute Error: 3.43\n",
      "Mean Squared Error: 34.82\n",
      "Root Mean Squared Error: 5.9\n",
      "38.32352717594657\n"
     ]
    }
   ],
   "source": [
    "y_pred = reg.predict(X_test)\n",
    "\n",
    "print('Mean Absolute Error:', round(metrics.mean_absolute_error(y_test, y_pred),2))\n",
    "print('Mean Squared Error:', round(metrics.mean_squared_error(y_test, y_pred),2))\n",
    "print('Root Mean Squared Error:', round(np.sqrt(metrics.mean_squared_error(y_test, y_pred)),2))\n",
    "\n",
    "errors = abs(y_pred - y_test)\n",
    "mape = np.mean(100 * (errors / y_test))\n",
    "accuracy=100-mape\n",
    "print(accuracy)"
   ]
  },
  {
   "cell_type": "code",
   "execution_count": 817,
   "metadata": {},
   "outputs": [
    {
     "data": {
      "text/plain": [
       "Brand               -0.000000\n",
       "Year                 0.754886\n",
       "Kilometers_Driven    0.000000\n",
       "Fuel_Type           -0.558219\n",
       "Transmission         2.080143\n",
       "Owner_Type          -0.000000\n",
       "Mileage             -0.000000\n",
       "Engine               0.000000\n",
       "Power                0.135650\n",
       "Seats               -0.000000\n",
       "dtype: float64"
      ]
     },
     "execution_count": 817,
     "metadata": {},
     "output_type": "execute_result"
    }
   ],
   "source": [
    "reg.alpha_\n",
    "coef"
   ]
  },
  {
   "cell_type": "code",
   "execution_count": 818,
   "metadata": {},
   "outputs": [
    {
     "data": {
      "text/plain": [
       "Text(0.5,1,'Feature importance using Lasso Model')"
      ]
     },
     "execution_count": 818,
     "metadata": {},
     "output_type": "execute_result"
    },
    {
     "data": {
      "image/png": "[encoded data removed]",
      "text/plain": [
       "<Figure size 432x504 with 1 Axes>"
      ]
     },
     "metadata": {},
     "output_type": "display_data"
    }
   ],
   "source": [
    "imp_coef = coef.sort_values()\n",
    "import matplotlib\n",
    "matplotlib.rcParams['figure.figsize'] = (6.0, 7.0)\n",
    "imp_coef.plot(kind = \"barh\")\n",
    "plt.title(\"Feature importance using Lasso Model\")"
   ]
  },
  {
   "cell_type": "code",
   "execution_count": 819,
   "metadata": {},
   "outputs": [
    {
     "name": "stdout",
     "output_type": "stream",
     "text": [
      "training score for alpha=100: 0.5163769095461334\n",
      "test score for alpha =100:  0.47816035039906\n",
      "number of features used: for alpha =100:  3\n"
     ]
    }
   ],
   "source": [
    "lasso001 = Lasso(alpha=100, max_iter=10e5)\n",
    "lasso001.fit(X_train,y_train)\n",
    "train_score001=lasso001.score(X_train,y_train)\n",
    "test_score001=lasso001.score(X_test,y_test)\n",
    "coeff_used001 = np.sum(lasso001.coef_!=0)\n",
    "print (\"training score for alpha=100:\", train_score001)\n",
    "print (\"test score for alpha =100: \", test_score001)\n",
    "print (\"number of features used: for alpha =100: \", coeff_used001)"
   ]
  },
  {
   "cell_type": "markdown",
   "metadata": {},
   "source": [
    "# KNN"
   ]
  },
  {
   "cell_type": "code",
   "execution_count": 820,
   "metadata": {},
   "outputs": [
    {
     "name": "stdout",
     "output_type": "stream",
     "text": [
      "RMSE value for k=  1 is: 9.14272015484381\n",
      "RMSE value for k=  2 is: 8.566073833145126\n",
      "RMSE value for k=  3 is: 7.5350404404831375\n",
      "RMSE value for k=  4 is: 7.32685934973854\n",
      "RMSE value for k=  5 is: 7.320084266693203\n",
      "RMSE value for k=  6 is: 7.111298229124278\n",
      "RMSE value for k=  7 is: 7.120024155554803\n",
      "RMSE value for k=  8 is: 7.116733719465454\n",
      "RMSE value for k=  9 is: 7.097268711972944\n",
      "RMSE value for k=  10 is: 7.11392213207852\n",
      "RMSE value for k=  11 is: 7.163707756470531\n",
      "RMSE value for k=  12 is: 7.21151427559865\n",
      "RMSE value for k=  13 is: 7.293170657468021\n",
      "RMSE value for k=  14 is: 7.332994862295754\n",
      "RMSE value for k=  15 is: 7.347147013141814\n"
     ]
    }
   ],
   "source": [
    "from sklearn.neighbors import KNeighborsRegressor\n",
    "from sklearn.metrics import pairwise_distances\n",
    "from sklearn import neighbors\n",
    "\n",
    "rmse_val2 = [] #to store rmse values for different k\n",
    "for K in range(15):\n",
    "    K += 1\n",
    "    model = neighbors.KNeighborsRegressor(n_neighbors = K)\n",
    "\n",
    "    model.fit(X_train, y_train)  #fit the model\n",
    "    pred=model.predict(X_test) #make prediction on test set\n",
    "    error = sqrt(mean_squared_error(y_test, pred)) #calculate rmse\n",
    "    rmse_val2.append(error) #store rmse values\n",
    "    print('RMSE value for k= ' , K , 'is:', error)"
   ]
  },
  {
   "cell_type": "code",
   "execution_count": 821,
   "metadata": {},
   "outputs": [
    {
     "data": {
      "text/plain": [
       "<matplotlib.axes._subplots.AxesSubplot at 0x19ba0797ba8>"
      ]
     },
     "execution_count": 821,
     "metadata": {},
     "output_type": "execute_result"
    },
    {
     "data": {
      "image/png": "[encoded data removed]",
      "text/plain": [
       "<Figure size 576x360 with 1 Axes>"
      ]
     },
     "metadata": {},
     "output_type": "display_data"
    }
   ],
   "source": [
    "#plotting the rmse values against k values\n",
    "import seaborn as sns\n",
    "\n",
    "sns.set(font_scale=1.3)\n",
    "\n",
    "curve = pd.DataFrame(rmse_val2) #elbow curve \n",
    "curve.plot(figsize=(8,5))"
   ]
  },
  {
   "cell_type": "markdown",
   "metadata": {},
   "source": [
    "Finding the best k value.It can be also be found using GridSearch."
   ]
  },
  {
   "cell_type": "code",
   "execution_count": 822,
   "metadata": {},
   "outputs": [
    {
     "data": {
      "text/plain": [
       "{'n_neighbors': 5}"
      ]
     },
     "execution_count": 822,
     "metadata": {},
     "output_type": "execute_result"
    }
   ],
   "source": [
    "from sklearn.model_selection import GridSearchCV\n",
    "params = {'n_neighbors':[2,3,4,5,6,7,8,9,10]}\n",
    "\n",
    "knn = neighbors.KNeighborsRegressor()\n",
    "\n",
    "model = GridSearchCV(knn, params, cv=5)\n",
    "model.fit(X_train,y_train)\n",
    "model.best_params_\n"
   ]
  },
  {
   "cell_type": "markdown",
   "metadata": {},
   "source": [
    "Generating Model for k=5"
   ]
  },
  {
   "cell_type": "code",
   "execution_count": 823,
   "metadata": {},
   "outputs": [],
   "source": [
    "#Import knearest neighbors Classifier model\n",
    "from sklearn.neighbors import KNeighborsClassifier\n",
    "\n",
    "#Create KNN Classifier\n",
    "knn = KNeighborsClassifier(n_neighbors=5)\n",
    "\n",
    "from sklearn import utils\n",
    "y_train_encoded=le.fit_transform(y_train)\n",
    "#print(utils.multiclass.type_of_target(y_train))\n",
    "#print(utils.multiclass.type_of_target(y_train.astype('int')))\n",
    "#print(utils.multiclass.type_of_target(y_train_encoded))\n",
    "\n",
    "#Train the model using the training sets\n",
    "knn.fit(X_train,y_train_encoded)\n",
    "\n",
    "#Predict the response for test dataset\n",
    "y_pred = knn.predict(X_test)"
   ]
  },
  {
   "cell_type": "markdown",
   "metadata": {},
   "source": [
    "Model evaluation"
   ]
  },
  {
   "cell_type": "code",
   "execution_count": 824,
   "metadata": {},
   "outputs": [
    {
     "name": "stdout",
     "output_type": "stream",
     "text": [
      "Mean Absolute Error: 226.87\n",
      "Mean Squared Error: 100629.81\n",
      "Root Mean Squared Error: 317.22\n"
     ]
    }
   ],
   "source": [
    "print('Mean Absolute Error:', round(metrics.mean_absolute_error(y_test, y_pred),2))\n",
    "print('Mean Squared Error:', round(metrics.mean_squared_error(y_test, y_pred),2))\n",
    "print('Root Mean Squared Error:', round(np.sqrt(metrics.mean_squared_error(y_test, y_pred)),2))"
   ]
  },
  {
   "cell_type": "markdown",
   "metadata": {},
   "source": [
    "# Cleaning the new dataset whose value has to be predicted\n",
    "\n",
    "1. Change power to float\n",
    "2. Change engine to int/float\n",
    "3. Change mileage to float\n",
    "4. Change the other object type data to categorical\n",
    "5. Add brand as a new column\n",
    "6. Add Price as the new column with values initialized to zero"
   ]
  },
  {
   "cell_type": "code",
   "execution_count": 825,
   "metadata": {},
   "outputs": [
    {
     "name": "stdout",
     "output_type": "stream",
     "text": [
      "['km/kg', 'kmpl']\n"
     ]
    },
    {
     "data": {
      "text/html": [
       "<div>\n",
       "<style scoped>\n",
       "    .dataframe tbody tr th:only-of-type {\n",
       "        vertical-align: middle;\n",
       "    }\n",
       "\n",
       "    .dataframe tbody tr th {\n",
       "        vertical-align: top;\n",
       "    }\n",
       "\n",
       "    .dataframe thead th {\n",
       "        text-align: right;\n",
       "    }\n",
       "</style>\n",
       "<table border=\"1\" class=\"dataframe\">\n",
       "  <thead>\n",
       "    <tr style=\"text-align: right;\">\n",
       "      <th></th>\n",
       "      <th>Brand</th>\n",
       "      <th>Name</th>\n",
       "      <th>Location</th>\n",
       "      <th>Year</th>\n",
       "      <th>Kilometers_Driven</th>\n",
       "      <th>Fuel_Type</th>\n",
       "      <th>Transmission</th>\n",
       "      <th>Owner_Type</th>\n",
       "      <th>Mileage</th>\n",
       "      <th>Engine</th>\n",
       "      <th>Power</th>\n",
       "      <th>Seats</th>\n",
       "    </tr>\n",
       "  </thead>\n",
       "  <tbody>\n",
       "    <tr>\n",
       "      <th>0</th>\n",
       "      <td>15</td>\n",
       "      <td>Maruti Alto K10 LXI CNG</td>\n",
       "      <td>4</td>\n",
       "      <td>2014</td>\n",
       "      <td>40929</td>\n",
       "      <td>0</td>\n",
       "      <td>1</td>\n",
       "      <td>0</td>\n",
       "      <td>32.26</td>\n",
       "      <td>998.0</td>\n",
       "      <td>58.20</td>\n",
       "      <td>4.0</td>\n",
       "    </tr>\n",
       "    <tr>\n",
       "      <th>1</th>\n",
       "      <td>15</td>\n",
       "      <td>Maruti Alto 800 2016-2019 LXI</td>\n",
       "      <td>3</td>\n",
       "      <td>2013</td>\n",
       "      <td>54493</td>\n",
       "      <td>3</td>\n",
       "      <td>1</td>\n",
       "      <td>2</td>\n",
       "      <td>24.70</td>\n",
       "      <td>796.0</td>\n",
       "      <td>47.30</td>\n",
       "      <td>5.0</td>\n",
       "    </tr>\n",
       "    <tr>\n",
       "      <th>2</th>\n",
       "      <td>25</td>\n",
       "      <td>Toyota Innova Crysta Touring Sport 2.4 MT</td>\n",
       "      <td>9</td>\n",
       "      <td>2017</td>\n",
       "      <td>34000</td>\n",
       "      <td>1</td>\n",
       "      <td>1</td>\n",
       "      <td>0</td>\n",
       "      <td>13.68</td>\n",
       "      <td>2393.0</td>\n",
       "      <td>147.80</td>\n",
       "      <td>7.0</td>\n",
       "    </tr>\n",
       "    <tr>\n",
       "      <th>4</th>\n",
       "      <td>8</td>\n",
       "      <td>Hyundai i20 Magna</td>\n",
       "      <td>9</td>\n",
       "      <td>2014</td>\n",
       "      <td>29000</td>\n",
       "      <td>3</td>\n",
       "      <td>1</td>\n",
       "      <td>0</td>\n",
       "      <td>18.50</td>\n",
       "      <td>1197.0</td>\n",
       "      <td>82.85</td>\n",
       "      <td>5.0</td>\n",
       "    </tr>\n",
       "    <tr>\n",
       "      <th>5</th>\n",
       "      <td>14</td>\n",
       "      <td>Mahindra XUV500 W8 2WD</td>\n",
       "      <td>3</td>\n",
       "      <td>2016</td>\n",
       "      <td>85609</td>\n",
       "      <td>1</td>\n",
       "      <td>1</td>\n",
       "      <td>2</td>\n",
       "      <td>16.00</td>\n",
       "      <td>2179.0</td>\n",
       "      <td>140.00</td>\n",
       "      <td>7.0</td>\n",
       "    </tr>\n",
       "  </tbody>\n",
       "</table>\n",
       "</div>"
      ],
      "text/plain": [
       "   Brand                                       Name  Location  Year  \\\n",
       "0     15                    Maruti Alto K10 LXI CNG         4  2014   \n",
       "1     15              Maruti Alto 800 2016-2019 LXI         3  2013   \n",
       "2     25  Toyota Innova Crysta Touring Sport 2.4 MT         9  2017   \n",
       "4      8                          Hyundai i20 Magna         9  2014   \n",
       "5     14                     Mahindra XUV500 W8 2WD         3  2016   \n",
       "\n",
       "   Kilometers_Driven  Fuel_Type  Transmission  Owner_Type  Mileage  Engine  \\\n",
       "0              40929          0             1           0    32.26   998.0   \n",
       "1              54493          3             1           2    24.70   796.0   \n",
       "2              34000          1             1           0    13.68  2393.0   \n",
       "4              29000          3             1           0    18.50  1197.0   \n",
       "5              85609          1             1           2    16.00  2179.0   \n",
       "\n",
       "    Power  Seats  \n",
       "0   58.20    4.0  \n",
       "1   47.30    5.0  \n",
       "2  147.80    7.0  \n",
       "4   82.85    5.0  \n",
       "5  140.00    7.0  "
      ]
     },
     "execution_count": 825,
     "metadata": {},
     "output_type": "execute_result"
    }
   ],
   "source": [
    "import pandas as pd\n",
    "#df1=pd.read_csv('Data_Test.csv')\n",
    "df1 = pd.read_csv('../Major Project/Data_Test.csv')\n",
    "\n",
    "df1.isnull().sum()\n",
    "df1.dropna(inplace=True)\n",
    "\n",
    "power_list = list(df1['Power'])\n",
    "power=[]\n",
    "for name in power_list:\n",
    "    power.append(name.split()[0])\n",
    "df1['Power'] = power\n",
    "df1 = df1[df1['Power'] != 'null' ]\n",
    "df1['Power'] = df1['Power'].astype('float')\n",
    "engine_list = list(df1['Engine'])\n",
    "engine = []\n",
    "for name in engine_list:\n",
    "    engine.append(name.split(' ')[0])\n",
    "df1['Engine'] = engine\n",
    "df1['Engine'] = df1['Engine'].astype('float')\n",
    "\n",
    "mileage_list = list(df1['Mileage'])\n",
    "unique_unit = []\n",
    "for x in mileage_list:\n",
    "    unit = x.split(' ')[1]\n",
    "    if unit not in unique_unit:\n",
    "        unique_unit.append(unit)\n",
    "print(unique_unit) \n",
    "mileage = []\n",
    "for x in mileage_list:\n",
    "    mileage.append(x.split(' ')[0])\n",
    "df1['Mileage'] = mileage\n",
    "df1['Mileage'] = df1['Mileage'].astype('float')\n",
    "\n",
    "car_name = []\n",
    "unique_car_brand = []\n",
    "car_name = list(df1['Name'])\n",
    "for x in car_name:\n",
    "    brand = (x.split(' ')[0])\n",
    "    if brand not in unique_car_brand:\n",
    "        unique_car_brand.append(brand)\n",
    "brand=[]\n",
    "for x in df1['Name']:\n",
    "    brand.append(x.split(' ')[0])\n",
    "df1.insert(loc = 0, column = 'Brand', value=brand, allow_duplicates=True)    \n",
    "\n",
    "from sklearn import preprocessing\n",
    "le = preprocessing.LabelEncoder()\n",
    "df1[['Brand','Location','Fuel_Type','Transmission','Owner_Type']]=df1[['Brand','Location','Fuel_Type','Transmission','Owner_Type']].apply(le.fit_transform)\n",
    "\n",
    "#df1['Price']=0\n",
    "df1.head()"
   ]
  },
  {
   "cell_type": "markdown",
   "metadata": {},
   "source": [
    "##### We can see that RandomForestRegressor and Gradient Boosting Regressor are performing quite well on the dataset. We will predict price using  both of these models."
   ]
  },
  {
   "cell_type": "code",
   "execution_count": 826,
   "metadata": {},
   "outputs": [],
   "source": [
    "###### As we can see from the above models, the highest accuracy is produced by GradientBoostingRegressor Model. We will predict our data using that model only."
   ]
  },
  {
   "cell_type": "code",
   "execution_count": 827,
   "metadata": {},
   "outputs": [
    {
     "data": {
      "text/html": [
       "<div>\n",
       "<style scoped>\n",
       "    .dataframe tbody tr th:only-of-type {\n",
       "        vertical-align: middle;\n",
       "    }\n",
       "\n",
       "    .dataframe tbody tr th {\n",
       "        vertical-align: top;\n",
       "    }\n",
       "\n",
       "    .dataframe thead th {\n",
       "        text-align: right;\n",
       "    }\n",
       "</style>\n",
       "<table border=\"1\" class=\"dataframe\">\n",
       "  <thead>\n",
       "    <tr style=\"text-align: right;\">\n",
       "      <th></th>\n",
       "      <th>Actual</th>\n",
       "      <th>Predicted</th>\n",
       "    </tr>\n",
       "  </thead>\n",
       "  <tbody>\n",
       "    <tr>\n",
       "      <th>4204</th>\n",
       "      <td>31.00</td>\n",
       "      <td>15.2710</td>\n",
       "    </tr>\n",
       "    <tr>\n",
       "      <th>605</th>\n",
       "      <td>12.50</td>\n",
       "      <td>10.2655</td>\n",
       "    </tr>\n",
       "    <tr>\n",
       "      <th>205</th>\n",
       "      <td>19.90</td>\n",
       "      <td>22.3400</td>\n",
       "    </tr>\n",
       "    <tr>\n",
       "      <th>456</th>\n",
       "      <td>8.92</td>\n",
       "      <td>9.0395</td>\n",
       "    </tr>\n",
       "    <tr>\n",
       "      <th>1303</th>\n",
       "      <td>24.68</td>\n",
       "      <td>17.2585</td>\n",
       "    </tr>\n",
       "    <tr>\n",
       "      <th>...</th>\n",
       "      <td>...</td>\n",
       "      <td>...</td>\n",
       "    </tr>\n",
       "    <tr>\n",
       "      <th>3748</th>\n",
       "      <td>7.11</td>\n",
       "      <td>6.2400</td>\n",
       "    </tr>\n",
       "    <tr>\n",
       "      <th>2783</th>\n",
       "      <td>7.52</td>\n",
       "      <td>6.3465</td>\n",
       "    </tr>\n",
       "    <tr>\n",
       "      <th>3613</th>\n",
       "      <td>7.75</td>\n",
       "      <td>7.6725</td>\n",
       "    </tr>\n",
       "    <tr>\n",
       "      <th>5238</th>\n",
       "      <td>3.25</td>\n",
       "      <td>3.3230</td>\n",
       "    </tr>\n",
       "    <tr>\n",
       "      <th>2508</th>\n",
       "      <td>2.00</td>\n",
       "      <td>3.3630</td>\n",
       "    </tr>\n",
       "  </tbody>\n",
       "</table>\n",
       "<p>1175 rows × 2 columns</p>\n",
       "</div>"
      ],
      "text/plain": [
       "      Actual  Predicted\n",
       "4204   31.00    15.2710\n",
       "605    12.50    10.2655\n",
       "205    19.90    22.3400\n",
       "456     8.92     9.0395\n",
       "1303   24.68    17.2585\n",
       "...      ...        ...\n",
       "3748    7.11     6.2400\n",
       "2783    7.52     6.3465\n",
       "3613    7.75     7.6725\n",
       "5238    3.25     3.3230\n",
       "2508    2.00     3.3630\n",
       "\n",
       "[1175 rows x 2 columns]"
      ]
     },
     "execution_count": 827,
     "metadata": {},
     "output_type": "execute_result"
    }
   ],
   "source": [
    "from sklearn.ensemble import RandomForestRegressor\n",
    "\n",
    "regressor = RandomForestRegressor(n_estimators=20, random_state=0)\n",
    "regressor.fit(X_train, y_train)\n",
    "y_pred = regressor.predict(X_test)\n",
    "df = pd.DataFrame({'Actual': y_test, 'Predicted': y_pred})\n",
    "df"
   ]
  },
  {
   "cell_type": "markdown",
   "metadata": {},
   "source": [
    "# Prediction using Gradient Boosting Regressor"
   ]
  },
  {
   "cell_type": "code",
   "execution_count": 828,
   "metadata": {},
   "outputs": [
    {
     "data": {
      "text/html": [
       "<div>\n",
       "<style scoped>\n",
       "    .dataframe tbody tr th:only-of-type {\n",
       "        vertical-align: middle;\n",
       "    }\n",
       "\n",
       "    .dataframe tbody tr th {\n",
       "        vertical-align: top;\n",
       "    }\n",
       "\n",
       "    .dataframe thead th {\n",
       "        text-align: right;\n",
       "    }\n",
       "</style>\n",
       "<table border=\"1\" class=\"dataframe\">\n",
       "  <thead>\n",
       "    <tr style=\"text-align: right;\">\n",
       "      <th></th>\n",
       "      <th>Actual</th>\n",
       "      <th>Predicted</th>\n",
       "    </tr>\n",
       "  </thead>\n",
       "  <tbody>\n",
       "    <tr>\n",
       "      <th>4204</th>\n",
       "      <td>31.00</td>\n",
       "      <td>17.519057</td>\n",
       "    </tr>\n",
       "    <tr>\n",
       "      <th>605</th>\n",
       "      <td>12.50</td>\n",
       "      <td>10.856380</td>\n",
       "    </tr>\n",
       "    <tr>\n",
       "      <th>205</th>\n",
       "      <td>19.90</td>\n",
       "      <td>23.800871</td>\n",
       "    </tr>\n",
       "    <tr>\n",
       "      <th>456</th>\n",
       "      <td>8.92</td>\n",
       "      <td>8.896853</td>\n",
       "    </tr>\n",
       "    <tr>\n",
       "      <th>1303</th>\n",
       "      <td>24.68</td>\n",
       "      <td>18.295913</td>\n",
       "    </tr>\n",
       "    <tr>\n",
       "      <th>...</th>\n",
       "      <td>...</td>\n",
       "      <td>...</td>\n",
       "    </tr>\n",
       "    <tr>\n",
       "      <th>3748</th>\n",
       "      <td>7.11</td>\n",
       "      <td>6.455947</td>\n",
       "    </tr>\n",
       "    <tr>\n",
       "      <th>2783</th>\n",
       "      <td>7.52</td>\n",
       "      <td>5.411501</td>\n",
       "    </tr>\n",
       "    <tr>\n",
       "      <th>3613</th>\n",
       "      <td>7.75</td>\n",
       "      <td>9.950609</td>\n",
       "    </tr>\n",
       "    <tr>\n",
       "      <th>5238</th>\n",
       "      <td>3.25</td>\n",
       "      <td>3.306356</td>\n",
       "    </tr>\n",
       "    <tr>\n",
       "      <th>2508</th>\n",
       "      <td>2.00</td>\n",
       "      <td>3.208796</td>\n",
       "    </tr>\n",
       "  </tbody>\n",
       "</table>\n",
       "<p>1175 rows × 2 columns</p>\n",
       "</div>"
      ],
      "text/plain": [
       "      Actual  Predicted\n",
       "4204   31.00  17.519057\n",
       "605    12.50  10.856380\n",
       "205    19.90  23.800871\n",
       "456     8.92   8.896853\n",
       "1303   24.68  18.295913\n",
       "...      ...        ...\n",
       "3748    7.11   6.455947\n",
       "2783    7.52   5.411501\n",
       "3613    7.75   9.950609\n",
       "5238    3.25   3.306356\n",
       "2508    2.00   3.208796\n",
       "\n",
       "[1175 rows x 2 columns]"
      ]
     },
     "execution_count": 828,
     "metadata": {},
     "output_type": "execute_result"
    }
   ],
   "source": [
    "from  sklearn.ensemble import GradientBoostingRegressor\n",
    "\n",
    "gbr = GradientBoostingRegressor(learning_rate=0.1, n_estimators=500)\n",
    "gbr.fit(X_train, y_train)\n",
    "y_pred = gbr.predict(X_test)\n",
    "df = pd.DataFrame({'Actual': y_test, 'Predicted': y_pred})\n",
    "df"
   ]
  },
  {
   "cell_type": "markdown",
   "metadata": {},
   "source": [
    "# Now we will predict the price of the test dataset"
   ]
  },
  {
   "cell_type": "code",
   "execution_count": 829,
   "metadata": {},
   "outputs": [],
   "source": [
    "new_data=df1[['Brand','Year', 'Kilometers_Driven', 'Fuel_Type', 'Transmission', 'Owner_Type', 'Mileage', 'Engine', 'Power', 'Seats']]\n",
    "Price=regressor.predict(new_data)\n",
    "df1['Price_using_RandomForestRegressor']=Price\n",
    "#df1.sample(20)"
   ]
  },
  {
   "cell_type": "code",
   "execution_count": 830,
   "metadata": {},
   "outputs": [],
   "source": [
    "new_data=df1[['Brand','Year', 'Kilometers_Driven', 'Fuel_Type', 'Transmission', 'Owner_Type', 'Mileage', 'Engine', 'Power', 'Seats']]\n",
    "Price=gbr.predict(new_data)\n",
    "df1['Price_using_GradientBoostigRegressor']=Price\n",
    "#df1.sample(20)"
   ]
  },
  {
   "cell_type": "code",
   "execution_count": 831,
   "metadata": {},
   "outputs": [
    {
     "data": {
      "text/html": [
       "<div>\n",
       "<style scoped>\n",
       "    .dataframe tbody tr th:only-of-type {\n",
       "        vertical-align: middle;\n",
       "    }\n",
       "\n",
       "    .dataframe tbody tr th {\n",
       "        vertical-align: top;\n",
       "    }\n",
       "\n",
       "    .dataframe thead th {\n",
       "        text-align: right;\n",
       "    }\n",
       "</style>\n",
       "<table border=\"1\" class=\"dataframe\">\n",
       "  <thead>\n",
       "    <tr style=\"text-align: right;\">\n",
       "      <th></th>\n",
       "      <th>Brand</th>\n",
       "      <th>Name</th>\n",
       "      <th>Location</th>\n",
       "      <th>Year</th>\n",
       "      <th>Kilometers_Driven</th>\n",
       "      <th>Fuel_Type</th>\n",
       "      <th>Transmission</th>\n",
       "      <th>Owner_Type</th>\n",
       "      <th>Mileage</th>\n",
       "      <th>Engine</th>\n",
       "      <th>Power</th>\n",
       "      <th>Seats</th>\n",
       "      <th>Price_using_RandomForestRegressor</th>\n",
       "      <th>Price_using_GradientBoostigRegressor</th>\n",
       "    </tr>\n",
       "  </thead>\n",
       "  <tbody>\n",
       "    <tr>\n",
       "      <th>871</th>\n",
       "      <td>6</td>\n",
       "      <td>Ford Freestyle Titanium Plus Diesel</td>\n",
       "      <td>8</td>\n",
       "      <td>2018</td>\n",
       "      <td>3013</td>\n",
       "      <td>1</td>\n",
       "      <td>1</td>\n",
       "      <td>0</td>\n",
       "      <td>24.40</td>\n",
       "      <td>1498.0</td>\n",
       "      <td>98.63</td>\n",
       "      <td>5.0</td>\n",
       "      <td>9.7365</td>\n",
       "      <td>10.953035</td>\n",
       "    </tr>\n",
       "    <tr>\n",
       "      <th>588</th>\n",
       "      <td>15</td>\n",
       "      <td>Maruti Wagon R LXI</td>\n",
       "      <td>9</td>\n",
       "      <td>2014</td>\n",
       "      <td>12000</td>\n",
       "      <td>3</td>\n",
       "      <td>1</td>\n",
       "      <td>0</td>\n",
       "      <td>18.90</td>\n",
       "      <td>998.0</td>\n",
       "      <td>67.10</td>\n",
       "      <td>5.0</td>\n",
       "      <td>3.7250</td>\n",
       "      <td>9.961479</td>\n",
       "    </tr>\n",
       "    <tr>\n",
       "      <th>184</th>\n",
       "      <td>7</td>\n",
       "      <td>Honda City ZX VTEC Plus</td>\n",
       "      <td>3</td>\n",
       "      <td>2009</td>\n",
       "      <td>76677</td>\n",
       "      <td>3</td>\n",
       "      <td>1</td>\n",
       "      <td>3</td>\n",
       "      <td>16.90</td>\n",
       "      <td>1497.0</td>\n",
       "      <td>100.00</td>\n",
       "      <td>5.0</td>\n",
       "      <td>2.3185</td>\n",
       "      <td>2.968488</td>\n",
       "    </tr>\n",
       "    <tr>\n",
       "      <th>461</th>\n",
       "      <td>19</td>\n",
       "      <td>Nissan Micra XV CVT</td>\n",
       "      <td>3</td>\n",
       "      <td>2015</td>\n",
       "      <td>32469</td>\n",
       "      <td>3</td>\n",
       "      <td>0</td>\n",
       "      <td>0</td>\n",
       "      <td>19.34</td>\n",
       "      <td>1198.0</td>\n",
       "      <td>76.00</td>\n",
       "      <td>5.0</td>\n",
       "      <td>5.0110</td>\n",
       "      <td>13.951817</td>\n",
       "    </tr>\n",
       "    <tr>\n",
       "      <th>380</th>\n",
       "      <td>0</td>\n",
       "      <td>Audi A4 2.0 TDI</td>\n",
       "      <td>1</td>\n",
       "      <td>2013</td>\n",
       "      <td>46000</td>\n",
       "      <td>1</td>\n",
       "      <td>0</td>\n",
       "      <td>2</td>\n",
       "      <td>16.55</td>\n",
       "      <td>1968.0</td>\n",
       "      <td>147.51</td>\n",
       "      <td>5.0</td>\n",
       "      <td>8.7695</td>\n",
       "      <td>14.691309</td>\n",
       "    </tr>\n",
       "    <tr>\n",
       "      <th>1218</th>\n",
       "      <td>7</td>\n",
       "      <td>Honda Amaze S i-Dtech</td>\n",
       "      <td>8</td>\n",
       "      <td>2013</td>\n",
       "      <td>38568</td>\n",
       "      <td>1</td>\n",
       "      <td>1</td>\n",
       "      <td>0</td>\n",
       "      <td>25.80</td>\n",
       "      <td>1498.0</td>\n",
       "      <td>98.60</td>\n",
       "      <td>5.0</td>\n",
       "      <td>4.6800</td>\n",
       "      <td>6.002424</td>\n",
       "    </tr>\n",
       "    <tr>\n",
       "      <th>1071</th>\n",
       "      <td>15</td>\n",
       "      <td>Maruti Swift VDI</td>\n",
       "      <td>3</td>\n",
       "      <td>2015</td>\n",
       "      <td>61903</td>\n",
       "      <td>1</td>\n",
       "      <td>1</td>\n",
       "      <td>0</td>\n",
       "      <td>22.90</td>\n",
       "      <td>1248.0</td>\n",
       "      <td>74.00</td>\n",
       "      <td>5.0</td>\n",
       "      <td>4.7635</td>\n",
       "      <td>8.111101</td>\n",
       "    </tr>\n",
       "    <tr>\n",
       "      <th>889</th>\n",
       "      <td>11</td>\n",
       "      <td>Jaguar XF 3.0 Litre S Premium Luxury</td>\n",
       "      <td>5</td>\n",
       "      <td>2011</td>\n",
       "      <td>53000</td>\n",
       "      <td>1</td>\n",
       "      <td>0</td>\n",
       "      <td>0</td>\n",
       "      <td>14.74</td>\n",
       "      <td>2993.0</td>\n",
       "      <td>270.90</td>\n",
       "      <td>5.0</td>\n",
       "      <td>23.7175</td>\n",
       "      <td>13.991677</td>\n",
       "    </tr>\n",
       "    <tr>\n",
       "      <th>1001</th>\n",
       "      <td>16</td>\n",
       "      <td>Mercedes-Benz E-Class 2015-2017 E250 CDI Avant...</td>\n",
       "      <td>0</td>\n",
       "      <td>2016</td>\n",
       "      <td>29000</td>\n",
       "      <td>1</td>\n",
       "      <td>0</td>\n",
       "      <td>0</td>\n",
       "      <td>13.00</td>\n",
       "      <td>2143.0</td>\n",
       "      <td>204.00</td>\n",
       "      <td>5.0</td>\n",
       "      <td>32.2365</td>\n",
       "      <td>29.677530</td>\n",
       "    </tr>\n",
       "    <tr>\n",
       "      <th>378</th>\n",
       "      <td>15</td>\n",
       "      <td>Maruti Baleno Delta</td>\n",
       "      <td>7</td>\n",
       "      <td>2017</td>\n",
       "      <td>32352</td>\n",
       "      <td>3</td>\n",
       "      <td>1</td>\n",
       "      <td>0</td>\n",
       "      <td>21.40</td>\n",
       "      <td>1197.0</td>\n",
       "      <td>83.10</td>\n",
       "      <td>5.0</td>\n",
       "      <td>7.1805</td>\n",
       "      <td>8.501848</td>\n",
       "    </tr>\n",
       "    <tr>\n",
       "      <th>1202</th>\n",
       "      <td>7</td>\n",
       "      <td>Honda City i-VTEC VX</td>\n",
       "      <td>3</td>\n",
       "      <td>2018</td>\n",
       "      <td>31542</td>\n",
       "      <td>3</td>\n",
       "      <td>1</td>\n",
       "      <td>0</td>\n",
       "      <td>17.40</td>\n",
       "      <td>1497.0</td>\n",
       "      <td>117.30</td>\n",
       "      <td>5.0</td>\n",
       "      <td>11.1720</td>\n",
       "      <td>11.309060</td>\n",
       "    </tr>\n",
       "    <tr>\n",
       "      <th>1156</th>\n",
       "      <td>25</td>\n",
       "      <td>Toyota Fortuner 3.0 Diesel</td>\n",
       "      <td>4</td>\n",
       "      <td>2011</td>\n",
       "      <td>75000</td>\n",
       "      <td>1</td>\n",
       "      <td>1</td>\n",
       "      <td>0</td>\n",
       "      <td>11.50</td>\n",
       "      <td>2982.0</td>\n",
       "      <td>171.00</td>\n",
       "      <td>7.0</td>\n",
       "      <td>11.0840</td>\n",
       "      <td>8.618602</td>\n",
       "    </tr>\n",
       "    <tr>\n",
       "      <th>218</th>\n",
       "      <td>24</td>\n",
       "      <td>Tata Manza Club Class Quadrajet90 LS</td>\n",
       "      <td>10</td>\n",
       "      <td>2014</td>\n",
       "      <td>125000</td>\n",
       "      <td>1</td>\n",
       "      <td>1</td>\n",
       "      <td>0</td>\n",
       "      <td>21.02</td>\n",
       "      <td>1248.0</td>\n",
       "      <td>88.80</td>\n",
       "      <td>5.0</td>\n",
       "      <td>5.1815</td>\n",
       "      <td>6.088491</td>\n",
       "    </tr>\n",
       "    <tr>\n",
       "      <th>486</th>\n",
       "      <td>26</td>\n",
       "      <td>Volkswagen Vento Diesel Highline</td>\n",
       "      <td>2</td>\n",
       "      <td>2011</td>\n",
       "      <td>76041</td>\n",
       "      <td>1</td>\n",
       "      <td>1</td>\n",
       "      <td>0</td>\n",
       "      <td>20.54</td>\n",
       "      <td>1598.0</td>\n",
       "      <td>103.60</td>\n",
       "      <td>5.0</td>\n",
       "      <td>4.6625</td>\n",
       "      <td>5.775056</td>\n",
       "    </tr>\n",
       "    <tr>\n",
       "      <th>92</th>\n",
       "      <td>8</td>\n",
       "      <td>Hyundai i20 Magna</td>\n",
       "      <td>4</td>\n",
       "      <td>2012</td>\n",
       "      <td>80800</td>\n",
       "      <td>3</td>\n",
       "      <td>1</td>\n",
       "      <td>0</td>\n",
       "      <td>18.50</td>\n",
       "      <td>1197.0</td>\n",
       "      <td>82.85</td>\n",
       "      <td>5.0</td>\n",
       "      <td>3.2470</td>\n",
       "      <td>4.414796</td>\n",
       "    </tr>\n",
       "    <tr>\n",
       "      <th>245</th>\n",
       "      <td>25</td>\n",
       "      <td>Toyota Corolla Altis Diesel D4DG</td>\n",
       "      <td>8</td>\n",
       "      <td>2011</td>\n",
       "      <td>45000</td>\n",
       "      <td>1</td>\n",
       "      <td>1</td>\n",
       "      <td>0</td>\n",
       "      <td>21.43</td>\n",
       "      <td>1364.0</td>\n",
       "      <td>87.20</td>\n",
       "      <td>5.0</td>\n",
       "      <td>3.6950</td>\n",
       "      <td>5.424503</td>\n",
       "    </tr>\n",
       "    <tr>\n",
       "      <th>485</th>\n",
       "      <td>7</td>\n",
       "      <td>Honda Brio E MT</td>\n",
       "      <td>6</td>\n",
       "      <td>2012</td>\n",
       "      <td>47000</td>\n",
       "      <td>3</td>\n",
       "      <td>1</td>\n",
       "      <td>0</td>\n",
       "      <td>19.40</td>\n",
       "      <td>1198.0</td>\n",
       "      <td>86.80</td>\n",
       "      <td>5.0</td>\n",
       "      <td>3.6100</td>\n",
       "      <td>4.130574</td>\n",
       "    </tr>\n",
       "    <tr>\n",
       "      <th>949</th>\n",
       "      <td>15</td>\n",
       "      <td>Maruti SX4 Zxi BSIII</td>\n",
       "      <td>9</td>\n",
       "      <td>2011</td>\n",
       "      <td>54000</td>\n",
       "      <td>3</td>\n",
       "      <td>1</td>\n",
       "      <td>0</td>\n",
       "      <td>15.00</td>\n",
       "      <td>1586.0</td>\n",
       "      <td>104.68</td>\n",
       "      <td>5.0</td>\n",
       "      <td>3.3135</td>\n",
       "      <td>6.323802</td>\n",
       "    </tr>\n",
       "    <tr>\n",
       "      <th>600</th>\n",
       "      <td>16</td>\n",
       "      <td>Mercedes-Benz GLE 250d</td>\n",
       "      <td>4</td>\n",
       "      <td>2016</td>\n",
       "      <td>21000</td>\n",
       "      <td>1</td>\n",
       "      <td>0</td>\n",
       "      <td>0</td>\n",
       "      <td>17.90</td>\n",
       "      <td>2143.0</td>\n",
       "      <td>201.15</td>\n",
       "      <td>5.0</td>\n",
       "      <td>36.4345</td>\n",
       "      <td>38.609026</td>\n",
       "    </tr>\n",
       "    <tr>\n",
       "      <th>39</th>\n",
       "      <td>1</td>\n",
       "      <td>BMW 5 Series 520d Luxury Line</td>\n",
       "      <td>9</td>\n",
       "      <td>2012</td>\n",
       "      <td>66889</td>\n",
       "      <td>1</td>\n",
       "      <td>0</td>\n",
       "      <td>0</td>\n",
       "      <td>22.48</td>\n",
       "      <td>1995.0</td>\n",
       "      <td>190.00</td>\n",
       "      <td>5.0</td>\n",
       "      <td>15.3625</td>\n",
       "      <td>16.393194</td>\n",
       "    </tr>\n",
       "  </tbody>\n",
       "</table>\n",
       "</div>"
      ],
      "text/plain": [
       "      Brand                                               Name  Location  \\\n",
       "871       6                Ford Freestyle Titanium Plus Diesel         8   \n",
       "588      15                                 Maruti Wagon R LXI         9   \n",
       "184       7                            Honda City ZX VTEC Plus         3   \n",
       "461      19                                Nissan Micra XV CVT         3   \n",
       "380       0                                    Audi A4 2.0 TDI         1   \n",
       "1218      7                              Honda Amaze S i-Dtech         8   \n",
       "1071     15                                   Maruti Swift VDI         3   \n",
       "889      11               Jaguar XF 3.0 Litre S Premium Luxury         5   \n",
       "1001     16  Mercedes-Benz E-Class 2015-2017 E250 CDI Avant...         0   \n",
       "378      15                                Maruti Baleno Delta         7   \n",
       "1202      7                               Honda City i-VTEC VX         3   \n",
       "1156     25                         Toyota Fortuner 3.0 Diesel         4   \n",
       "218      24               Tata Manza Club Class Quadrajet90 LS        10   \n",
       "486      26                   Volkswagen Vento Diesel Highline         2   \n",
       "92        8                                  Hyundai i20 Magna         4   \n",
       "245      25                   Toyota Corolla Altis Diesel D4DG         8   \n",
       "485       7                                    Honda Brio E MT         6   \n",
       "949      15                               Maruti SX4 Zxi BSIII         9   \n",
       "600      16                             Mercedes-Benz GLE 250d         4   \n",
       "39        1                      BMW 5 Series 520d Luxury Line         9   \n",
       "\n",
       "      Year  Kilometers_Driven  Fuel_Type  Transmission  Owner_Type  Mileage  \\\n",
       "871   2018               3013          1             1           0    24.40   \n",
       "588   2014              12000          3             1           0    18.90   \n",
       "184   2009              76677          3             1           3    16.90   \n",
       "461   2015              32469          3             0           0    19.34   \n",
       "380   2013              46000          1             0           2    16.55   \n",
       "1218  2013              38568          1             1           0    25.80   \n",
       "1071  2015              61903          1             1           0    22.90   \n",
       "889   2011              53000          1             0           0    14.74   \n",
       "1001  2016              29000          1             0           0    13.00   \n",
       "378   2017              32352          3             1           0    21.40   \n",
       "1202  2018              31542          3             1           0    17.40   \n",
       "1156  2011              75000          1             1           0    11.50   \n",
       "218   2014             125000          1             1           0    21.02   \n",
       "486   2011              76041          1             1           0    20.54   \n",
       "92    2012              80800          3             1           0    18.50   \n",
       "245   2011              45000          1             1           0    21.43   \n",
       "485   2012              47000          3             1           0    19.40   \n",
       "949   2011              54000          3             1           0    15.00   \n",
       "600   2016              21000          1             0           0    17.90   \n",
       "39    2012              66889          1             0           0    22.48   \n",
       "\n",
       "      Engine   Power  Seats  Price_using_RandomForestRegressor  \\\n",
       "871   1498.0   98.63    5.0                             9.7365   \n",
       "588    998.0   67.10    5.0                             3.7250   \n",
       "184   1497.0  100.00    5.0                             2.3185   \n",
       "461   1198.0   76.00    5.0                             5.0110   \n",
       "380   1968.0  147.51    5.0                             8.7695   \n",
       "1218  1498.0   98.60    5.0                             4.6800   \n",
       "1071  1248.0   74.00    5.0                             4.7635   \n",
       "889   2993.0  270.90    5.0                            23.7175   \n",
       "1001  2143.0  204.00    5.0                            32.2365   \n",
       "378   1197.0   83.10    5.0                             7.1805   \n",
       "1202  1497.0  117.30    5.0                            11.1720   \n",
       "1156  2982.0  171.00    7.0                            11.0840   \n",
       "218   1248.0   88.80    5.0                             5.1815   \n",
       "486   1598.0  103.60    5.0                             4.6625   \n",
       "92    1197.0   82.85    5.0                             3.2470   \n",
       "245   1364.0   87.20    5.0                             3.6950   \n",
       "485   1198.0   86.80    5.0                             3.6100   \n",
       "949   1586.0  104.68    5.0                             3.3135   \n",
       "600   2143.0  201.15    5.0                            36.4345   \n",
       "39    1995.0  190.00    5.0                            15.3625   \n",
       "\n",
       "      Price_using_GradientBoostigRegressor  \n",
       "871                              10.953035  \n",
       "588                               9.961479  \n",
       "184                               2.968488  \n",
       "461                              13.951817  \n",
       "380                              14.691309  \n",
       "1218                              6.002424  \n",
       "1071                              8.111101  \n",
       "889                              13.991677  \n",
       "1001                             29.677530  \n",
       "378                               8.501848  \n",
       "1202                             11.309060  \n",
       "1156                              8.618602  \n",
       "218                               6.088491  \n",
       "486                               5.775056  \n",
       "92                                4.414796  \n",
       "245                               5.424503  \n",
       "485                               4.130574  \n",
       "949                               6.323802  \n",
       "600                              38.609026  \n",
       "39                               16.393194  "
      ]
     },
     "execution_count": 831,
     "metadata": {},
     "output_type": "execute_result"
    }
   ],
   "source": [
    "df1.sample(20)"
   ]
  }
 ],
 "metadata": {
  "kernelspec": {
   "display_name": "Python 3",
   "language": "python",
   "name": "python3"
  },
  "language_info": {
   "codemirror_mode": {
    "name": "ipython",
    "version": 3
   },
   "file_extension": ".py",
   "mimetype": "text/x-python",
   "name": "python",
   "nbconvert_exporter": "python",
   "pygments_lexer": "ipython3",
   "version": "3.7.6"
  }
 },
 "nbformat": 4,
 "nbformat_minor": 2
}
